{
 "cells": [
  {
   "cell_type": "markdown",
   "metadata": {},
   "source": [
    "Solve:\n",
    "$$\\Delta u = f \\quad \\text{on} \\; \\Omega$$\n",
    "$$ u = g \\quad \\text{on} \\;\\Gamma$$\n",
    "Steps:\n",
    "- Define a kernel function\n",
    "- define differentiated kernel function\n",
    "- Generate inside center points\n",
    "- Generate boundary center points\n",
    "- generate function f on $\\Omega$\n",
    "- generate function g on $\\Gamma$\n",
    "- generate centers for Partition of unity \n",
    "- generate kd tree for all data points(internal + boundary)\n",
    "- generate sparce matrix with shepard weights for each location \n",
    "- for each patch:\n",
    "    - create Kernel matrix $\\Phi$ of all points in that partch \n",
    "    - create polynomial matrix P for all points in the \n",
    "    - assemble the local system\n",
    "    - invert local sustem, and get $U^*$\n",
    "    - multiply entries by $w_l$ and add to the corresponding positions in the global matrix\n",
    "- assemble RHS\n",
    "- solve sparse system \n",
    "$$\n",
    "\\begin{aligned}\n",
    "\\nabla^2 u(x, y) & =-\\frac{5}{4} \\pi^2 \\sin (\\pi x) \\cos \\left(\\frac{\\pi y}{2}\\right), \\quad(x, y) \\in \\Omega=[0,1]^2 \\\\\n",
    "u(x, y) & =\\sin (\\pi x), \\quad(x, y) \\in \\Gamma_1 \\\\\n",
    "u(x, y) & =0, \\quad(x, y) \\in \\Gamma_2\n",
    "\\end{aligned}\n",
    "$$\n",
    "\n",
    "where \n",
    "$$\\Gamma_1=\\{(x, y): 0 \\leq x \\leq 1, y=0\\} \\; \\text{and} \\; \\Gamma_2=\\partial \\Omega \\backslash \\Gamma_1$$. \n",
    "As can easily be verified, the exact solution is given by\n",
    "$$\n",
    "u(x, y)=\\sin (\\pi x) \\cos \\left(\\frac{\\pi y}{2}\\right)\n",
    "$$\n"
   ]
  },
  {
   "cell_type": "code",
   "execution_count": 208,
   "metadata": {},
   "outputs": [
    {
     "ename": "LoadError",
     "evalue": "LoadError: syntax: extra token \"LinearAlgebra\" after end of expression\nin expression starting at C:\\Users\\Volodymyr\\OneDrive\\Documents\\Masters\\thesis\\coding\\RBFunctions.jl:7",
     "output_type": "error",
     "traceback": [
      "LoadError: syntax: extra token \"LinearAlgebra\" after end of expression\nin expression starting at C:\\Users\\Volodymyr\\OneDrive\\Documents\\Masters\\thesis\\coding\\RBFunctions.jl:7",
      "",
      "Stacktrace:",
      " [1] top-level scope",
      "   @ C:\\Users\\Volodymyr\\OneDrive\\Documents\\Masters\\thesis\\coding\\RBFunctions.jl:7",
      " [2] include(fname::String)",
      "   @ Base.MainInclude .\\client.jl:451",
      " [3] top-level scope",
      "   @ In[208]:1"
     ]
    }
   ],
   "source": [
    "include(\"RBFunctions.jl\")\n",
    "using GeometryBasics\n",
    "using CairoMakie"
   ]
  },
  {
   "cell_type": "code",
   "execution_count": 209,
   "metadata": {},
   "outputs": [
    {
     "data": {
      "text/plain": [
       "exact_solution (generic function with 1 method)"
      ]
     },
     "execution_count": 209,
     "metadata": {},
     "output_type": "execute_result"
    }
   ],
   "source": [
    "function f(x,y)\n",
    "   return -5/4 * π*π * sin(π*x) * cos(π*y/2)\n",
    "end\n",
    "\n",
    "function g1(x,y)\n",
    "    return sin(π*x)\n",
    "end\n",
    "\n",
    "function g2(x,y)\n",
    "    return 0\n",
    "end\n",
    "\n",
    "function exact_solution(x,y)\n",
    "    return sin(π*x)*cos(π*y/2)\n",
    "end"
   ]
  },
  {
   "cell_type": "code",
   "execution_count": 288,
   "metadata": {},
   "outputs": [
    {
     "data": {
      "text/plain": [
       "0.5"
      ]
     },
     "execution_count": 288,
     "metadata": {},
     "output_type": "execute_result"
    }
   ],
   "source": [
    "N_i= 20 # number of interiror points \n",
    "N_b = 10 # number of boundary points on all sides \n",
    "N = N_i + N_b*4\n",
    "N_pu = 3 # number of partition regions\n",
    "radius = 1/(N_pu-1) # radius of partiton region "
   ]
  },
  {
   "cell_type": "code",
   "execution_count": 289,
   "metadata": {
    "scrolled": true
   },
   "outputs": [
    {
     "data": {
      "text/plain": [
       "2×9 adjoint(::Matrix{Float64}) with eltype Float64:\n",
       " 0.0  0.0  0.0  0.5  0.5  0.5  1.0  1.0  1.0\n",
       " 0.0  0.5  1.0  0.0  0.5  1.0  0.0  0.5  1.0"
      ]
     },
     "execution_count": 289,
     "metadata": {},
     "output_type": "execute_result"
    }
   ],
   "source": [
    "# generate list of interiror points \n",
    "p_list = generate_2D_Halton_points(N_i)\n",
    "p_list = Point.(p_list[1,:],  p_list[2,:]) \n",
    "interiror_points = []\n",
    "for i in 1:N_i\n",
    "    p = p_list[i]\n",
    "    meta_point = PointMeta(p, index = i, operator = Δgaussian, value = f(p[1],p[2]))\n",
    "    append!(interiror_points,[meta_point])\n",
    "end\n",
    "\n",
    "# generate list of boundary points \n",
    "a = LinRange(0,1-1/(N_b-1),N_b)\n",
    "b = zeros(N_b)\n",
    "c = ones(N_b)\n",
    "bp1_list = Point.(a,b) \n",
    "bp2_list= append!(Point.(c,a),Point.((a.+1/(N_b-1)),c),Point.(b,(a.+1/(N_b-1))))\n",
    "boundary_points = []\n",
    "for i in 1:N_b\n",
    "    p = bp1_list[i]\n",
    "    meta_point = PointMeta(p, index = N_i+i, operator = gaussian, value = g1(p[1],p[2]))\n",
    "    append!(boundary_points,[meta_point])\n",
    "end\n",
    "for i in 1:N_b*3\n",
    "    p = bp2_list[i]\n",
    "    meta_point = PointMeta(p, index = N_i+N_b+i, operator = gaussian, value = g2(p[1],p[2]))\n",
    "    append!(boundary_points,[meta_point])\n",
    "end\n",
    "#a = metafree.(boundary_points)\n",
    "# generate PU centers \n",
    "pp = collect(LinRange(0,1,N_pu))\n",
    "pu_sites = hcat(vec(ones(N_pu) * pp'),vec(pp * ones(N_pu)'))'\n"
   ]
  },
  {
   "cell_type": "code",
   "execution_count": 290,
   "metadata": {},
   "outputs": [
    {
     "data": {
      "image/png": "[encoded data removed]",
      "text/plain": [
       "Figure()"
      ]
     },
     "execution_count": 290,
     "metadata": {},
     "output_type": "execute_result"
    }
   ],
   "source": [
    "# plot boundary and interiror points \n",
    "fig = Figure()\n",
    "ax  = Axis(fig[1,1])\n",
    "#ax2  = Axis(fig[1,2])\n",
    "aa = scatter!(ax, [boundary_points[i][1] for i in 1:N_b*4], \n",
    "    [boundary_points[i][2] for i in 1:N_b*4],\n",
    "    color= [boundary_points[i].value for i in 1:N_b*4],\n",
    "    colormap = :magma,\n",
    "    marker = :rect)\n",
    "bb = scatter!(ax, [interiror_points[i][1] for i in 1:N_i], \n",
    "    [interiror_points[i][2] for i in 1:N_i],\n",
    "    color= [interiror_points[i].value for i in 1:N_i],\n",
    "    colormap = (:coolwarm))\n",
    "pu = scatter!(ax,pu_sites[1,:] ,pu_sites[2,:] ,color = \"green\",marker = :rtriangle)\n",
    "\n",
    "Colorbar(fig[1,2], aa)\n",
    "Colorbar(fig[1,3], bb)\n",
    "fig"
   ]
  },
  {
   "cell_type": "code",
   "execution_count": 291,
   "metadata": {},
   "outputs": [
    {
     "data": {
      "text/plain": [
       "Polynom_matrix (generic function with 1 method)"
      ]
     },
     "execution_count": 291,
     "metadata": {},
     "output_type": "execute_result"
    }
   ],
   "source": [
    "using TypedPolynomials\n",
    "function Poly_functions_vec(deg,d_x,d_y)\n",
    "    dim = 2 # number of dimensions\n",
    "    Q = factorial(deg+dim-1)÷(factorial(dim)*factorial(deg-1))\n",
    "    @polyvar x y\n",
    "    T = Polynomial{Int64, Term{Int64, Monomial{(x, y), 2}}, Vector{Term{Int64, Monomial{(x, y), 2}}}}\n",
    "    p_vec = Array{T,1}(undef, Q)\n",
    "    counter = 1\n",
    "    for i in 0:(deg-1)\n",
    "        for j in 0:i\n",
    "            p_vec[counter] = differentiate(differentiate(x^(i-j)*y^j, x, Val{d_x}()),y,Val{d_y}())\n",
    "            counter+=1\n",
    "        end\n",
    "    end\n",
    "    return p_vec\n",
    "end\n",
    "\n",
    "function ΔPoly_functions_vec(deg) #Laplacian operator for polynomials\n",
    "    # returns a vector of functions \n",
    "    Δₓp = Poly_functions_vec(deg,2,0)\n",
    "    Δᵥp = Poly_functions_vec(deg,0,2)\n",
    "    return Δₓp+Δᵥp\n",
    "end\n",
    "\n",
    "function poly_evaluate(pol_list,a,b)\n",
    "    return [pol_list[i](x=>a,y=>b) for i in 1:length(pol_list)]\n",
    "end\n",
    "function Polynom_matrix(x_list,y_list,deg)\n",
    "    n = length(x_list)\n",
    "    dim = 2 # number of dimensions \n",
    "    Q = factorial(deg+dim-1)÷(factorial(dim)*factorial(deg-1))\n",
    "    P = zeros(n,Q)\n",
    "    P[:,1] = ones(n)\n",
    "    counter = 1\n",
    "    for i in 1:(deg-1)\n",
    "        for j in 0:i\n",
    "            counter+=1\n",
    "            P[:,counter] = x_list.^(i-j) .* y_list.^j\n",
    "        end\n",
    "    end\n",
    "    return Q,P\n",
    "end\n"
   ]
  },
  {
   "cell_type": "code",
   "execution_count": 292,
   "metadata": {},
   "outputs": [
    {
     "name": "stdout",
     "output_type": "stream",
     "text": [
      "1.5636171023740374e16  1.6127596894461908e13  3.5371821104934215e15  1.0687696984279396e13  3332.831336856656  7.532719780391816e13  4.398639310190328e16  1.2741652977429189e14  9.773052129941813e16  "
     ]
    },
    {
     "data": {
      "text/plain": [
       "60×60 SparseMatrixCSC{Float64, Int64} with 1660 stored entries:\n",
       "⣿⣿⣿⣗⣿⣿⣿⣿⣿⣿⣯⣭⣭⠭⠭⠥⠤⠤⠤⠤⠒⠒⠒⠒⠲⣒⣒⣒⣒⣒\n",
       "⢿⢿⣿⢟⢿⣿⢿⢿⡿⢿⡒⠒⠒⠒⠒⠯⠭⠭⠭⠭⣉⣉⣭⣭⣭⣒⣒⣒⣒⣚\n",
       "⣿⣿⣿⣷⣿⣿⣿⣿⣿⣿⣛⣛⣛⣛⣛⡯⠭⠭⠤⠤⠤⠤⠤⠤⠤⣒⣒⣒⣒⣲\n",
       "⣿⣿⣿⣗⣿⣿⣿⣿⣿⣿⡀⠀⠀⠤⠤⠭⠭⠭⠭⠭⣒⣒⠒⠒⠺⣀⣀⣒⣒⣒\n",
       "⣿⣿⣿⣏⣿⣿⣿⣿⣿⣿⡶⠶⠶⠶⠶⠦⠤⠤⠭⠭⣉⣉⣉⣉⣩⣒⣒⣀⣀⣈\n",
       "⡆⣾⢸⠀⣾⢸⠀⠀⢸⡆⣿⣿⣿⣶⣶⡆⠀⠀⠀⠀⠀⠀⠀⠀⠀⣿⣿⠀⠀⠀\n",
       "⡇⡟⢸⠀⣿⢸⠀⡄⢸⡇⣿⣿⣿⣿⣿⣧⣤⣤⠀⠀⠀⠀⠀⠀⠀⠛⠛⠀⠀⠀\n",
       "⠃⡇⡘⡀⡟⡘⡀⡇⠘⡇⠛⠛⠛⣿⣿⣿⣿⣿⣀⣀⠀⠀⠀⠀⢀⠀⠀⠀⠀⠀\n",
       "⠀⡇⡇⡇⡇⡇⡇⡇⠀⡇⠀⠀⠀⣿⣿⣿⣿⣿⣿⣿⠀⠀⠀⠀⢸⠀⠀⠀⠀⠀\n",
       "⠀⡇⡇⡇⠀⡇⡇⡇⡇⡇⠀⠀⠀⠀⠀⣿⣿⣿⣿⣿⠀⠀⣿⣿⣿⠀⠀⠀⠀⠀\n",
       "⢸⠀⡇⢸⠀⡇⢸⢸⡇⢸⠀⠀⠀⠀⠀⠀⠀⠀⠀⠀⣿⣿⣿⣿⣿⠀⠀⣿⣿⣿\n",
       "⢸⠀⡇⣿⠀⡇⢸⠀⡇⢸⠀⠀⠀⠀⠀⠀⠀⠀⣿⣿⣿⣿⣿⣿⣿⠀⠀⠀⠀⢸\n",
       "⢨⢠⢣⢫⢠⢣⠈⢠⢣⢨⣤⣤⣤⠀⠀⠀⠀⠀⠛⠛⠉⠉⠛⠛⠛⣤⣤⣤⣤⣬\n",
       "⢸⢸⢸⢸⢸⢸⢠⢸⠘⢸⡟⠛⠛⠀⠀⠀⠀⠀⠀⠀⣤⣤⠀⠀⠀⣿⣿⣿⣿⣿\n",
       "⢸⠸⠸⢸⠸⠸⢸⢸⠀⢸⠇⠀⠀⠀⠀⠀⠀⠀⠀⠀⣿⣿⠀⠀⠀⠿⠿⣿⣿⣿"
      ]
     },
     "metadata": {},
     "output_type": "display_data"
    },
    {
     "name": "stdout",
     "output_type": "stream",
     "text": [
      "757.8707249376881\n",
      "1119.0275059220753\n",
      "2819.319453318338\n",
      "895.6940693223045\n",
      "3432.2372852034373\n",
      "1250.2517918755116\n",
      "579.470987501835\n",
      "3048.7242445201023\n",
      "2480.6873228668546\n",
      "2982.143390434712\n",
      "850.0831994198909\n",
      "6043.995149885092\n",
      "612.6851295866867\n",
      "4487.3176052173885\n",
      "2372.551792867922\n",
      "3086.935075616713\n",
      "5718.439420661192\n",
      "3695.689043575644\n",
      "1022.3101114966596\n",
      "1218.512713458902\n",
      "95.5837817692264\n",
      "131.461543739491\n",
      "97.05795991597562\n",
      "35.8555411111881\n",
      "20.673151842700673\n",
      "10.81290108808016\n",
      "13.51066153061896\n",
      "14.750425951256117\n",
      "44.12238763556179\n",
      "47.17865737363849\n",
      "74.64786412710535\n",
      "131.7534683750075\n",
      "173.34359368131032\n",
      "67.23857701633376\n",
      "17.066221655213795\n",
      "23.08393339700965\n",
      "29.69134947155834\n",
      "26.8289530604497\n",
      "14.37306623014058\n",
      "17.511056019108672\n",
      "12.140583128343621\n",
      "20.768464175355078\n",
      "31.172445696312412\n",
      "34.37777786731713\n",
      "28.487576646587154\n",
      "24.347557161783694\n",
      "40.221731881447745\n",
      "101.0246550053865\n",
      "99.65691652133988\n",
      "54.233612574337556\n",
      "72.94961634611543\n",
      "127.78082673558531\n",
      "48.66724338267172\n",
      "6.862642126533361\n",
      "22.629127735556512\n",
      "32.172259009269816\n",
      "22.73169670253786\n",
      "67.18499092458553\n",
      "57.48965013214536\n",
      "68.256486671841\n"
     ]
    },
    {
     "data": {
      "text/plain": [
       "60-element Vector{Float64}:\n",
       "  0.30319813178479993\n",
       " -0.13665006011141076\n",
       "  0.5665363781568339\n",
       "  1.1013397517384054\n",
       "  0.832786464150592\n",
       "  0.9908292285109432\n",
       " -0.3619047656121989\n",
       " -1.2717850800370232\n",
       "  1.4311262364390955\n",
       " -0.17687502568131408\n",
       "  0.8916153623476201\n",
       "  1.323391120242554\n",
       "  0.027973812528559353\n",
       "  ⋮\n",
       "  0.6987601502907795\n",
       "  0.9284548598660386\n",
       "  0.09901003843422311\n",
       " -1.1181818447423346\n",
       " -1.1016126795782382\n",
       "  0.09900074956536388\n",
       "  1.7521370967058338\n",
       "  2.3271134213276716\n",
       "  0.6431480204050354\n",
       " -0.7112527097709105\n",
       " -1.7495360719409718\n",
       " -2.5430757210513777"
      ]
     },
     "execution_count": 292,
     "metadata": {},
     "output_type": "execute_result"
    }
   ],
   "source": [
    "# create list with all collocation points \n",
    "ϵ = 2\n",
    "poly_degree = 3\n",
    "points = vcat(interiror_points,boundary_points)\n",
    "pure_points = metafree.(points) # list of points without metadata(this is compatible with other packages)\n",
    "points_x = [pure_points[i][1] for i in 1:N]\n",
    "points_y = [pure_points[i][2] for i in 1:N]\n",
    "# create k-d tree for all points \n",
    "KD_tree = KDTree(pure_points,Euclidean(),leafsize = 3)\n",
    "#create polynamoal and differentiated polynomial function vector \n",
    "poly = Poly_functions_vec(poly_degree,0,0)\n",
    "Δpoly = ΔPoly_functions_vec(poly_degree)\n",
    "# create empty sparce sparce matrix N by N \n",
    "A = spzeros(N,N)\n",
    "Shepard_matrix = spzeros(N,N_pu^2)\n",
    "for i in 1:N_pu^2\n",
    "    # find all points that lie within iᵗʰ patch\n",
    "    idxs_data = inrange(KD_tree, pu_sites[:,i], radius, true)\n",
    "    p_x = points_x[idxs_data]\n",
    "    p_y = points_y[idxs_data]\n",
    "    # construct local phi Φ\n",
    "    Dist_matrix = pairwise(Euclidean(), pure_points[idxs_data], pure_points[idxs_data])\n",
    "    Φ = gaussian.(Dist_matrix,ϵ)\n",
    "    # construct polynomial matrix P\n",
    "    Q,P = Polynom_matrix(p_x,p_y,poly_degree)\n",
    "    # combine these and invert\n",
    "    M = vcat(hcat(Φ,P),hcat(zeros((Q,Q)),P'))\n",
    "    \n",
    "    M_inv = inv(M)\n",
    "    inter_indexs = filter(x -> x <=N_i, idxs_data) # indexes to which apply laplace operator\n",
    "    n_interiror = length(inter_indexs)\n",
    "    n_boundary = length(idxs_data) - n_interiror\n",
    "    R1 = Δgaussian.(Dist_matrix[:,1:n_interiror],ϵ)\n",
    "    S1 = hcat(poly_evaluate.((Δpoly,),points_x[inter_indexs],points_y[inter_indexs])...)\n",
    "    boundary_indexs = filter(x -> x >N_i, idxs_data) # indexes to which apply Boundary operator\n",
    "    #println(poly_evaluate.((poly,),points_x[boundary_indexs],points_y[boundary_indexs]))\n",
    "    if n_boundary==0\n",
    "        RS = vcat(R1,S1)\n",
    "    else\n",
    "        R2 = gaussian.(Dist_matrix[:,n_interiror+1:end],ϵ)\n",
    "        S2 = hcat(poly_evaluate.((poly,),points_x[boundary_indexs],points_y[boundary_indexs])...)\n",
    "        RS = hcat(vcat(R1,S1),vcat(R2,S2))\n",
    "    end\n",
    "    \n",
    "    # Now the weight functions: \n",
    "    U = (M_inv * RS)[1:end-Q,:]\n",
    "    print(cond(U),\"  \")\n",
    "     \n",
    "    PU_weights = wendland_C2.(pairwise(Euclidean(), pure_points[idxs_data], [pu_sites[:,i]]),radius)\n",
    "    #display(PU_weights)\n",
    "    A[idxs_data,idxs_data] += U' .* PU_weights\n",
    "    Shepard_matrix[idxs_data,i] = PU_weights\n",
    "end\n",
    "#display(A)\n",
    "\n",
    "sum(Shepard_matrix, dims=2)\n",
    "#Polynom_matrix(points_x,points_y,5)[1]\n",
    "sdsd = sum(Shepard_matrix, dims=2).^-1\n",
    "A = A .* sdsd\n",
    "display(A)\n",
    "# Assemble rhs\n",
    "RHS = [points[i].value for i in 1:N]\n",
    "for i in 1:N\n",
    "    println(sum(abs.(Matrix(A)[i,:])))\n",
    "end\n",
    "A\\RHS\n",
    "#RHS\n",
    "#1 ./ sum(Shepard_matrix, dims=2)"
   ]
  },
  {
   "cell_type": "code",
   "execution_count": 247,
   "metadata": {},
   "outputs": [
    {
     "name": "stdout",
     "output_type": "stream",
     "text": [
      "[0.78125, 0.15625, 0.0, 0.09876543209876543, 0.19753086419753085, 0.2962962962962963, 0.3950617283950617, 0.49382716049382713, 0.5925925925925926, 0.691358024691358, 0.7901234567901234, 0.8888888888888888, 1.0, 1.0, 1.0, 1.0, 1.0, 1.0, 1.0, 1.0, 1.0, 1.0, 0.1111111111111111, 0.20987654320987653, 0.30864197530864196, 0.4074074074074074, 0.5061728395061729, 0.6049382716049383, 0.7037037037037037, 0.8024691358024691, 0.9012345679012346, 1.0, 0.0, 0.0, 0.0, 0.0, 0.0, 0.0, 0.0, 0.0, 0.0, 0.0]"
     ]
    }
   ],
   "source": []
  },
  {
   "cell_type": "code",
   "execution_count": 251,
   "metadata": {},
   "outputs": [
    {
     "data": {
      "text/plain": [
       "180-element Vector{Point2{Float64}}:\n",
       " [0.5, 0.3333333333333333]\n",
       " [0.25, 0.6666666666666666]\n",
       " [0.75, 0.1111111111111111]\n",
       " [0.125, 0.4444444444444444]\n",
       " [0.625, 0.7777777777777778]\n",
       " [0.375, 0.2222222222222222]\n",
       " [0.875, 0.5555555555555556]\n",
       " [0.0625, 0.8888888888888888]\n",
       " [0.5625, 0.037037037037037035]\n",
       " [0.3125, 0.37037037037037035]\n",
       " [0.8125, 0.7037037037037037]\n",
       " [0.1875, 0.14814814814814814]\n",
       " [0.6875, 0.48148148148148145]\n",
       " ⋮\n",
       " [0.0, 0.45152354570637115]\n",
       " [0.0, 0.5013850415512465]\n",
       " [0.0, 0.5512465373961218]\n",
       " [0.0, 0.6011080332409973]\n",
       " [0.0, 0.6509695290858726]\n",
       " [0.0, 0.7008310249307479]\n",
       " [0.0, 0.7506925207756232]\n",
       " [0.0, 0.8005540166204986]\n",
       " [0.0, 0.850415512465374]\n",
       " [0.0, 0.9002770083102493]\n",
       " [0.0, 0.9501385041551246]\n",
       " [0.0, 1.0]"
      ]
     },
     "execution_count": 251,
     "metadata": {},
     "output_type": "execute_result"
    }
   ],
   "source": [
    "pure_points[:,1]"
   ]
  },
  {
   "cell_type": "code",
   "execution_count": 220,
   "metadata": {},
   "outputs": [
    {
     "data": {
      "text/plain": [
       "DataType"
      ]
     },
     "execution_count": 220,
     "metadata": {},
     "output_type": "execute_result"
    }
   ],
   "source": [
    "typeof(Euclidean)"
   ]
  },
  {
   "cell_type": "code",
   "execution_count": null,
   "metadata": {},
   "outputs": [],
   "source": []
  }
 ],
 "metadata": {
  "kernelspec": {
   "display_name": "Julia 1.7.1",
   "language": "julia",
   "name": "julia-1.7"
  },
  "language_info": {
   "file_extension": ".jl",
   "mimetype": "application/julia",
   "name": "julia",
   "version": "1.7.1"
  }
 },
 "nbformat": 4,
 "nbformat_minor": 4
}
