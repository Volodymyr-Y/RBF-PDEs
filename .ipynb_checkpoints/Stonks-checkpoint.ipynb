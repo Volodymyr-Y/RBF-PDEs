{
 "cells": [
  {
   "cell_type": "markdown",
   "metadata": {},
   "source": [
    "- Generate internal and boundary collocation points \n",
    "- since the problem is small, try automatic differentiation \n",
    "\n"
   ]
  },
  {
   "cell_type": "code",
   "execution_count": 169,
   "metadata": {},
   "outputs": [],
   "source": [
    "using BenchmarkTools\n",
    "using ForwardDiff\n",
    "include(\"RBFunctions.jl\")\n",
    "using Plots\n"
   ]
  },
  {
   "cell_type": "code",
   "execution_count": 167,
   "metadata": {},
   "outputs": [
    {
     "data": {
      "text/plain": [
       "(::var\"#res#435\"{var\"#d2#434\"{var\"#d1#433\"{var\"#427#432\"{var\"#d4#431\"{var\"#d3#430\"{var\"#d2#429\"{var\"#d1#428\"{typeof(gaussian2)}}}}, var\"#d3#430\"{var\"#d2#429\"{var\"#d1#428\"{typeof(gaussian2)}}}, var\"#d2#429\"{var\"#d1#428\"{typeof(gaussian2)}}, var\"#d1#428\"{typeof(gaussian2)}}}}, var\"#d1#433\"{var\"#427#432\"{var\"#d4#431\"{var\"#d3#430\"{var\"#d2#429\"{var\"#d1#428\"{typeof(gaussian2)}}}}, var\"#d3#430\"{var\"#d2#429\"{var\"#d1#428\"{typeof(gaussian2)}}}, var\"#d2#429\"{var\"#d1#428\"{typeof(gaussian2)}}, var\"#d1#428\"{typeof(gaussian2)}}}}) (generic function with 1 method)"
      ]
     },
     "execution_count": 167,
     "metadata": {},
     "output_type": "execute_result"
    }
   ],
   "source": [
    "function gaussian2(r;ϵ=0.2) # guassian RBF\n",
    "    return exp(-1*r*r*ϵ*ϵ)\n",
    "end\n",
    "\n",
    "function abc(x)\n",
    "    gaussian2(sqrt(x[1]^2 + x[2]^2))\n",
    "end\n",
    "\n",
    "function Δ(func)\n",
    "    first_d(x) = ForwardDiff.derivative(func,x)\n",
    "    second_d(x) = ForwardDiff.derivative(first_d,x)\n",
    "    return r -> second_d(r) + (1/r) * first_d(r)\n",
    "end\n",
    "\n",
    "function ΔΔ(func)\n",
    "    d1(x) = ForwardDiff.derivative(func,x)\n",
    "    d2(x) = ForwardDiff.derivative(d1,x)\n",
    "    d3(x) = ForwardDiff.derivative(d2,x)\n",
    "    d4(x) = ForwardDiff.derivative(d3,x)\n",
    "    \n",
    "    return r -> d4(r) + (2/r)* d3(r) - (1/r^2)* d2(r) + (1/r^3)* d1(r)\n",
    "end\n",
    "\n",
    "function ∂₁₁(func)\n",
    "    d1(x) = ForwardDiff.derivative(func,x)\n",
    "    d2(x) = ForwardDiff.derivative(d1,x)\n",
    "    function res(vec)\n",
    "        x,y = vec\n",
    "        r = norm(vec)\n",
    "        return ((x^2)*d2(r))/(r^2) + ((y^2)*d1(r))/(r^3)\n",
    "    end\n",
    "    return res\n",
    "end\n",
    "\n",
    "function ∂₁₂(func)\n",
    "    d1(x) = ForwardDiff.derivative(func,x)\n",
    "    d2(x) = ForwardDiff.derivative(d1,x)\n",
    "    function res(vec)\n",
    "        x,y = vec\n",
    "        r = norm(vec)\n",
    "        return (d2(r)/(r^2) + d1(r)/(r^3))*x*y\n",
    "    end\n",
    "    return res\n",
    "end\n",
    "\n",
    "function ∂₂₂(func)\n",
    "    d1(x) = ForwardDiff.derivative(func,x)\n",
    "    d2(x) = ForwardDiff.derivative(d1,x)\n",
    "    function res(vec)\n",
    "        x,y = vec\n",
    "        r = norm(vec)\n",
    "        return ((y^2)*d2(r))/(r^2) + ((x^2)*d1(r))/(r^3)\n",
    "    end\n",
    "    return res\n",
    "end\n",
    "\n",
    "\n",
    "#Δ(Δ(abc))([5,2])\n",
    "ff = Δ(Δ(gaussian2))\n",
    "ff2 = ∂₁₁(ΔΔ(gaussian2))"
   ]
  },
  {
   "cell_type": "code",
   "execution_count": 168,
   "metadata": {},
   "outputs": [
    {
     "data": {
      "text/plain": [
       "-0.0070958803328031485"
      ]
     },
     "execution_count": 168,
     "metadata": {},
     "output_type": "execute_result"
    }
   ],
   "source": [
    "ff2([1.3,1])"
   ]
  },
  {
   "cell_type": "code",
   "execution_count": 54,
   "metadata": {},
   "outputs": [
    {
     "data": {
      "text/plain": [
       "ddd (generic function with 1 method)"
      ]
     },
     "execution_count": 54,
     "metadata": {},
     "output_type": "execute_result"
    }
   ],
   "source": [
    "ddd(x) = x^2"
   ]
  },
  {
   "cell_type": "code",
   "execution_count": 55,
   "metadata": {},
   "outputs": [
    {
     "data": {
      "text/plain": [
       "1089"
      ]
     },
     "execution_count": 55,
     "metadata": {},
     "output_type": "execute_result"
    }
   ],
   "source": [
    "ddd(33)"
   ]
  },
  {
   "cell_type": "code",
   "execution_count": null,
   "metadata": {},
   "outputs": [],
   "source": []
  }
 ],
 "metadata": {
  "kernelspec": {
   "display_name": "Julia 1.7.1",
   "language": "julia",
   "name": "julia-1.7"
  },
  "language_info": {
   "file_extension": ".jl",
   "mimetype": "application/julia",
   "name": "julia",
   "version": "1.7.1"
  }
 },
 "nbformat": 4,
 "nbformat_minor": 4
}
