{
 "cells": [
  {
   "cell_type": "markdown",
   "metadata": {},
   "source": [
    "generate data points \n",
    "\n",
    "generate evaluation points \n",
    "\n",
    "generate sites for the covering\n",
    "\n",
    "generate weights matrix for the evaluation points using shepards method \n",
    "- construct N_eval x N_pu sparce matrix based on partition weighting function \n",
    "- normalize the entries of the matrix such that it satisfies the weight function requirement \n",
    "\n",
    "create kd tree for data points \n",
    "\n",
    "create kd tree for evaluation points \n",
    "\n",
    "for Partition region i:\n",
    "- find all data points within specified radius \n",
    "- build interpolation matrix on these points \n",
    "- calculate interpolating coefficients \n",
    "- find all evaluation points within specified radius \n",
    "- calculare evaluation matrix \n",
    "- calculate local interpolation \n",
    "- multiply all points in ith partition region by their shepard weight function \n",
    "- add the contributions to the corresponding evaluation points \n",
    "\n"
   ]
  },
  {
   "cell_type": "code",
   "execution_count": 1,
   "metadata": {},
   "outputs": [
    {
     "data": {
      "text/plain": [
       "frankes_func (generic function with 1 method)"
      ]
     },
     "execution_count": 1,
     "metadata": {},
     "output_type": "execute_result"
    }
   ],
   "source": [
    "include(\"RBFunctions.jl\")"
   ]
  },
  {
   "cell_type": "code",
   "execution_count": null,
   "metadata": {},
   "outputs": [],
   "source": [
    "data1 = generate_2D_Halton_points(020)\n",
    "data2 = generate_2D_Halton_points(20000)\n",
    "data20data1 = generate_2D_Halton_points(020)\n",
    "data2 = generate_2D_Halton_points(20000)\n",
    "data20data1 = generate_2D_Halton_points(020)\n",
    "data2 = generate_2D_Halton_points(20000)\n",
    "data20"
   ]
  },
  {
   "cell_type": "raw",
   "metadata": {},
   "source": [
    "data1 = generate_2D_Halton_points(020)\n",
    "data2 = generate_2D_Halton_points(20000)\n",
    "data20"
   ]
  },
  {
   "cell_type": "code",
   "execution_count": 24,
   "metadata": {},
   "outputs": [
    {
     "data": {
      "text/plain": [
       "sparce_distance_matrix (generic function with 1 method)"
      ]
     },
     "execution_count": 24,
     "metadata": {},
     "output_type": "execute_result"
    }
   ],
   "source": [
    "function sparce_distance_matrix(data1,data2,r_max)\n",
    "    #build k-d tree\n",
    "    m = size(data1)[2]\n",
    "    n = size(data2)[2]\n",
    "    A = spzeros(m,n)\n",
    "    tree = KDTree(data1,Euclidean(),leafsize = 3)\n",
    "    for j in 1:m\n",
    "        point = data2[:,j]\n",
    "        #println(size(point[:,:]))\n",
    "        idxs = inrange(tree, point, r_max, true)\n",
    "        #println(data1[:,idxs])\n",
    "        #println(idxs)\n",
    "        #println(pairwise(Euclidean(),point[:,:], data1[:,idxs]))\n",
    "        #println(vec(pairwise(Euclidean(),point[:,:], data1[:,idxs])))\n",
    "        A[idxs,j] = vec(pairwise(Euclidean(),point[:,:], data1[:,idxs]))\n",
    "    end\n",
    "    #display(A)\n",
    "    return A\n",
    "end"
   ]
  },
  {
   "cell_type": "code",
   "execution_count": 25,
   "metadata": {},
   "outputs": [
    {
     "name": "stdout",
     "output_type": "stream",
     "text": [
      "  0.031427 seconds (38.83 k allocations: 2.135 MiB, 99.67% compilation time)\n"
     ]
    },
    {
     "data": {
      "text/plain": [
       "20×20 SparseMatrixCSC{Float64, Int64} with 30 stored entries:\n",
       "⠀⠀⠈⠀⠈⠀⠀⢀⠀⠐\n",
       "⠂⠀⠀⠀⠐⠄⠈⠀⠑⢄\n",
       "⠂⠀⠐⠄⠀⠀⠀⠀⢀⠀\n",
       "⠀⢀⠂⠀⠀⠀⠀⠀⠂⢁\n",
       "⢀⠀⠑⢄⠀⠐⠌⢀⠀⠀"
      ]
     },
     "execution_count": 25,
     "metadata": {},
     "output_type": "execute_result"
    }
   ],
   "source": [
    "@time B = sparce_distance_matrix(data1,data2,0.2)"
   ]
  },
  {
   "cell_type": "code",
   "execution_count": 16,
   "metadata": {},
   "outputs": [
    {
     "data": {
      "text/plain": [
       "0.0"
      ]
     },
     "execution_count": 16,
     "metadata": {},
     "output_type": "execute_result"
    }
   ],
   "source": [
    "B[1,2]"
   ]
  },
  {
   "cell_type": "code",
   "execution_count": 22,
   "metadata": {},
   "outputs": [
    {
     "data": {
      "text/plain": [
       "2×2 Matrix{Int64}:\n",
       " 1  3\n",
       " 2  3"
      ]
     },
     "execution_count": 22,
     "metadata": {},
     "output_type": "execute_result"
    }
   ],
   "source": []
  },
  {
   "cell_type": "code",
   "execution_count": null,
   "metadata": {},
   "outputs": [],
   "source": []
  }
 ],
 "metadata": {
  "kernelspec": {
   "display_name": "Julia 1.7.1",
   "language": "julia",
   "name": "julia-1.7"
  },
  "language_info": {
   "file_extension": ".jl",
   "mimetype": "application/julia",
   "name": "julia",
   "version": "1.7.1"
  }
 },
 "nbformat": 4,
 "nbformat_minor": 4
}
