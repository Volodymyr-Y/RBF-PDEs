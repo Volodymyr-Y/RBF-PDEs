{
 "cells": [
  {
   "attachments": {},
   "cell_type": "markdown",
   "metadata": {},
   "source": [
    "Calculate functionals with symbolics \n",
    "create kernel \n",
    "\n",
    "Create points \n",
    "\n",
    "construnct distance tnsors \n",
    "\n",
    "\n",
    "apply kernel to a distance tensor \n",
    "\n",
    "assemble RHS and matrices \n",
    "\n",
    "Assemble DAE \n",
    "\n",
    "Solve with diffeq.jl or custom code \n",
    "\n",
    "\n",
    "\n"
   ]
  },
  {
   "cell_type": "code",
   "execution_count": 1,
   "metadata": {},
   "outputs": [],
   "source": [
    "using Revise\n",
    "using CairoMakie\n",
    "using Symbolics\n",
    "using Latexify\n",
    "using DifferentialEquations\n",
    "using Sundials\n",
    "using BenchmarkTools\n",
    "#cd(\"..\")\n",
    "include(\"RBFunctions.jl\")\n",
    "#cd(\"circular_stokes_flow\")\n",
    "using Plots"
   ]
  },
  {
   "cell_type": "code",
   "execution_count": 2,
   "metadata": {},
   "outputs": [],
   "source": [
    "mutable struct Sol\n",
    "    t\n",
    "    sol\n",
    "end"
   ]
  },
  {
   "cell_type": "code",
   "execution_count": 3,
   "metadata": {},
   "outputs": [],
   "source": [
    "function (p::Sol)(x) # linear intrpolation\n",
    "    if x > p.t[end]\n",
    "        error(\"out of bounds\")\n",
    "    end\n",
    "    dt = p.t[2] - p.t[1]\n",
    "    n = Int(x÷dt)+1\n",
    "    rem = x%dt\n",
    "    return p.sol[:,n]+(p.sol[:,n+1] - p.sol[:,n])*(rem/dt)\n",
    "end"
   ]
  },
  {
   "cell_type": "code",
   "execution_count": 6,
   "metadata": {},
   "outputs": [
    {
     "data": {
      "text/plain": [
       "λp (generic function with 1 method)"
      ]
     },
     "execution_count": 6,
     "metadata": {},
     "output_type": "execute_result"
    }
   ],
   "source": [
    "@variables ϵ r x₁ x₂ t Δt;\n",
    "const nu = 1.0\n",
    "#ϕ = 1//945 * ((ϵ*r)^5 +15*(ϵ*r)^3 + 105*(ϵ*r)^2 + 945*(ϵ*r)+ 945)* exp(-ϵ*r)\n",
    "ϕ = r^7 #exp(-r^2*ϵ^2)\n",
    "ϕ2 = r^3\n",
    "ϕ = substitute(ϕ, r=>sqrt(x₁^2 + x₂^2)) \n",
    "#display(ϕ)  \n",
    "Δ(exprs) = expand_derivatives((Differential(x₁)^2)(exprs) + (Differential(x₂)^2)(exprs))\n",
    "∂₁(exprs) = expand_derivatives(Differential(x₁)(exprs))\n",
    "∂₂(exprs) = expand_derivatives(Differential(x₂)(exprs))\n",
    "∂ₜ(exprs) = expand_derivatives(Differential(t)(exprs))\n",
    "\n",
    "Φ_div = ([-∂₂(∂₂(ϕ)) ∂₁(∂₂(ϕ)) 0.0 ; ∂₁(∂₂(ϕ)) -∂₁(∂₁(ϕ)) 0.0; 0.0 0.0 ϕ])\n",
    "ΔΦ_div= Δ.([-∂₂(∂₂(ϕ)) ∂₁(∂₂(ϕ)); ∂₁(∂₂(ϕ)) -∂₁(∂₁(ϕ))])\n",
    "Φ_curl = ([-∂₁(∂₁(ϕ)) -∂₁(∂₂(ϕ)); -∂₁(∂₂(ϕ)) -∂₂(∂₂(ϕ))])\n",
    "Φ = [ϕ 0.0 0.0; 0.0 ϕ 0.0;0.0 0.0 ϕ]\n",
    "#ΔΦ = [Δ(ϕ) 0 ; 0 Δ(ϕ)]\n",
    "true_u₁ = -x₂*π*sin(π*0.5*(x₁*x₁ + x₂*x₂))*sin(π*t)\n",
    "true_u₂ =  x₁*π*sin(π*0.5*(x₁*x₁ + x₂*x₂))*sin(π*t)\n",
    "true_∂ₜu₁ = ∂ₜ(true_u₁)\n",
    "true_∂ₜu₂  = ∂ₜ(true_u₂)\n",
    "true_p = sin(x₁-x₂+t)\n",
    "true_∂₁p = ∂₁(true_p)\n",
    "true_∂₂p = ∂₂(true_p)\n",
    "f₁ = ∂ₜ(true_u₁) - nu*Δ(true_u₁) + true_∂₁p\n",
    "f₂ = ∂ₜ(true_u₂) - nu*Δ(true_u₂) + true_∂₂p\n",
    "\n",
    "\n",
    "true_u₁ = eval(build_function(true_u₁,x₁, x₂, t))\n",
    "true_u₂ = eval(build_function(true_u₂,x₁, x₂, t))\n",
    "true_p = eval(build_function(true_p,x₁, x₂, t))\n",
    "true_∂₁p = eval(build_function(true_∂₁p,x₁, x₂, t))\n",
    "true_∂₂p = eval(build_function(true_∂₂p,x₁, x₂, t))\n",
    "f₁ = eval(build_function(f₁,x₁, x₂, t))\n",
    "f₂ = eval(build_function(f₂,x₁, x₂, t))\n",
    "∂ₜu₁ = eval(build_function(true_∂ₜu₁,x₁, x₂, t))\n",
    "∂ₜu₂  = eval(build_function(true_∂ₜu₂,x₁, x₂, t))\n",
    "zero_func(x₁,x₂,t) = 0.0\n",
    "\n",
    "\n",
    "λ1y(x) = x[1] - Δt*Δ(x[1]) -  Δt*∂₁(x[3])\n",
    "λ2y(x) = x[2] - Δt*Δ(x[2]) -  Δt*∂₂(x[3])\n",
    "λ3y(x) = x[1]\n",
    "λ4y(x) = x[2]\n",
    "\n",
    "λ1x(x) = x[1] - Δt*Δ(x[1]) +  Δt*∂₁(x[3])\n",
    "λ2x(x) = x[2] - Δt*Δ(x[2]) +  Δt*∂₂(x[3])\n",
    "λ3x(x) = x[1]\n",
    "λ4x(x) = x[2]\n",
    "\n",
    "λu(x) = x[1]\n",
    "λv(x) = x[2]\n",
    "λp(x) = x[3]\n"
   ]
  },
  {
   "cell_type": "code",
   "execution_count": 3,
   "metadata": {},
   "outputs": [
    {
     "name": "stdout",
     "output_type": "stream",
     "text": [
      "total number of nodes: 358\n",
      "number og internal_nodes: 294\n"
     ]
    }
   ],
   "source": [
    "#generate points for circular flow benchmark \n",
    "using DistMesh2D\n",
    "fdistance(p) = sqrt(sum(p .^ 2)) - 1\n",
    "fedgelength(p) = 1/(sqrt(sum(p .^ 2))+1)\n",
    "boundingbox = [-1.1 -1.1; 1.1 1.1]\n",
    "initdistance = 0.1\n",
    "x, y = distmesh2d(fdistance, fedgelength, boundingbox, initdistance)\n",
    "\n",
    "# generate points, reference solution, forcing vector, and boundary conditions \n",
    "tx = unique(filter(e -> !isequal(e,NaN) ,x))\n",
    "ty = unique(filter(e -> !isequal(e,NaN) ,y))\n",
    "\n",
    "points = hcat(tx,ty)'\n",
    "\n",
    "Internal_points = []\n",
    "Boundary_points = []\n",
    "suma = 0\n",
    "for i in 1:length(tx)\n",
    "    if abs(sum(points[:,i] .^2) - 1) < 1e-8\n",
    "        #println(i)\n",
    "        suma +=1\n",
    "        append!(Boundary_points,[points[:,i]])\n",
    "    else\n",
    "        append!(Internal_points,[points[:,i]])\n",
    "    end\n",
    "    \n",
    "end\n",
    "\n",
    "Internal_points = hcat(Internal_points...)\n",
    "Boundary_points = hcat(Boundary_points...)\n",
    "All_points = hcat(Internal_points,Boundary_points)\n",
    "N_i = size(Internal_points)[2]\n",
    "N_b = size(Boundary_points)[2]\n",
    "N = N_i + N_b\n",
    "println(\"total number of nodes: \",N)\n",
    "println(\"number og internal_nodes: \",N_i)"
   ]
  },
  {
   "cell_type": "code",
   "execution_count": 4,
   "metadata": {},
   "outputs": [],
   "source": [
    "Plots.scatter(Internal_points[1,:],Internal_points[2,:],aspect_ratio=:equal,background_color = :transparent,foreground_color = :black,\n",
    "label = \"Domain points\",ticks = false,showaxis = false)\n",
    "Plots.scatter!(Boundary_points[1,:],Boundary_points[2,:],aspect_ratio=:equal,background_color = :transparent,foreground_color = :black,\n",
    "label =\"Boundary points\", ticks = false,showaxis = false)\n",
    "savefig(\"internal_domain_points.png\")"
   ]
  },
  {
   "cell_type": "code",
   "execution_count": 8,
   "metadata": {},
   "outputs": [
    {
     "data": {
      "text/latex": [
       "\\begin{equation}\n",
       "\\left[\n",
       "\\begin{array}{cccc}\n",
       " - 7.0e-6 \\left( \\sqrt{x_1^{2} + x_2^{2}} \\right)^{5} - 3.5000000000000004e-5 \\left( \\sqrt{x_1^{2} + x_2^{2}} \\right)^{3} x_1^{2} + 0.14 \\left( \\sqrt{x_1^{2} + x_2^{2}} \\right)^{3} + \\frac{0.105 x_2^{4}}{\\sqrt{x_1^{2} + x_2^{2}}} + 0.105 x_1^{2} \\sqrt{x_1^{2} + x_2^{2}} + 0.735 x_2^{2} \\sqrt{x_1^{2} + x_2^{2}} + \\frac{0.105 x_2^{2} x_1^{2}}{\\sqrt{x_1^{2} + x_2^{2}}} - 0.00189 \\sqrt{x_1^{2} + x_2^{2}} - \\frac{0.00031499999999999996 x_1^{2}}{\\sqrt{x_1^{2} + x_2^{2}}} - \\frac{0.0053549999999999995 x_2^{2}}{\\sqrt{x_1^{2} + x_2^{2}}} + \\frac{0.0016799999999999999 x_2^{4}}{\\left( \\sqrt{x_1^{2} + x_2^{2}} \\right)^{3}} - \\frac{0.00031499999999999996 x_2^{6}}{\\left( \\sqrt{x_1^{2} + x_2^{2}} \\right)^{5}} - \\frac{0.00031499999999999996 x_2^{4} x_1^{2}}{\\left( \\sqrt{x_1^{2} + x_2^{2}} \\right)^{5}} + \\frac{0.0006299999999999999 x_2^{2} x_1^{2}}{\\left( \\sqrt{x_1^{2} + x_2^{2}} \\right)^{3}} - 0.0006299999999999999 \\sqrt{x_1^{2} + x_2^{2}} + \\frac{0.00010499999999999999 x_1^{4}}{\\left( \\sqrt{x_1^{2} + x_2^{2}} \\right)^{3}} + \\frac{0.00010499999999999999 x_2^{4}}{\\left( \\sqrt{x_1^{2} + x_2^{2}} \\right)^{3}} - \\frac{0.000945 x_1^{2}}{\\sqrt{x_1^{2} + x_2^{2}}} - \\frac{0.000945 x_2^{2}}{\\sqrt{x_1^{2} + x_2^{2}}} - \\frac{0.00031499999999999996 x_2^{2} x_1^{4}}{\\left( \\sqrt{x_1^{2} + x_2^{2}} \\right)^{5}} - \\frac{0.00031499999999999996 x_2^{4} x_1^{2}}{\\left( \\sqrt{x_1^{2} + x_2^{2}} \\right)^{5}} + \\frac{0.0012599999999999998 x_2^{2} x_1^{2}}{\\left( \\sqrt{x_1^{2} + x_2^{2}} \\right)^{3}} + 0.14 \\left( \\sqrt{x_1^{2} + x_2^{2}} \\right)^{3} + \\frac{0.105 x_2^{4}}{\\sqrt{x_1^{2} + x_2^{2}}} + 0.105 x_1^{2} \\sqrt{x_1^{2} + x_2^{2}} + 0.735 x_2^{2} \\sqrt{x_1^{2} + x_2^{2}} + \\frac{0.105 x_2^{2} x_1^{2}}{\\sqrt{x_1^{2} + x_2^{2}}} - 7 \\left( \\sqrt{x_1^{2} + x_2^{2}} \\right)^{5} - 35 \\left( \\sqrt{x_1^{2} + x_2^{2}} \\right)^{3} x_2^{2} &  - \\frac{0.105 x_2^{3} x_1}{\\sqrt{x_1^{2} + x_2^{2}}} - 0.63 x_1 x_2 \\sqrt{x_1^{2} + x_2^{2}} - \\frac{0.105 x_1^{3} x_2}{\\sqrt{x_1^{2} + x_2^{2}}} - \\frac{0.00031499999999999996 x_1^{3} x_2}{\\left( \\sqrt{x_1^{2} + x_2^{2}} \\right)^{3}} - \\frac{0.001365 x_2^{3} x_1}{\\left( \\sqrt{x_1^{2} + x_2^{2}} \\right)^{3}} + \\frac{0.00031499999999999996 x_2^{3} x_1^{3}}{\\left( \\sqrt{x_1^{2} + x_2^{2}} \\right)^{5}} + \\frac{0.0025199999999999997 x_1 x_2}{\\sqrt{x_1^{2} + x_2^{2}}} + \\frac{0.00031499999999999996 x_2^{5} x_1}{\\left( \\sqrt{x_1^{2} + x_2^{2}} \\right)^{5}} - \\frac{0.001365 x_1^{3} x_2}{\\left( \\sqrt{x_1^{2} + x_2^{2}} \\right)^{3}} - \\frac{0.00031499999999999996 x_2^{3} x_1}{\\left( \\sqrt{x_1^{2} + x_2^{2}} \\right)^{3}} + \\frac{0.00031499999999999996 x_1^{5} x_2}{\\left( \\sqrt{x_1^{2} + x_2^{2}} \\right)^{5}} + \\frac{0.0025199999999999997 x_1 x_2}{\\sqrt{x_1^{2} + x_2^{2}}} + \\frac{0.00031499999999999996 x_2^{3} x_1^{3}}{\\left( \\sqrt{x_1^{2} + x_2^{2}} \\right)^{5}} - \\frac{0.105 x_2^{3} x_1}{\\sqrt{x_1^{2} + x_2^{2}}} - 0.63 x_1 x_2 \\sqrt{x_1^{2} + x_2^{2}} - \\frac{0.105 x_1^{3} x_2}{\\sqrt{x_1^{2} + x_2^{2}}} + 34.999965 \\left( \\sqrt{x_1^{2} + x_2^{2}} \\right)^{3} x_1 x_2 & 0.14 \\left( \\sqrt{x_1^{2} + x_2^{2}} \\right)^{3} + \\frac{0.105 x_2^{4}}{\\sqrt{x_1^{2} + x_2^{2}}} + 0.105 x_1^{2} \\sqrt{x_1^{2} + x_2^{2}} + 0.735 x_2^{2} \\sqrt{x_1^{2} + x_2^{2}} + \\frac{0.105 x_2^{2} x_1^{2}}{\\sqrt{x_1^{2} + x_2^{2}}} - 7 \\left( \\sqrt{x_1^{2} + x_2^{2}} \\right)^{5} - 35 \\left( \\sqrt{x_1^{2} + x_2^{2}} \\right)^{3} x_2^{2} &  - \\frac{0.105 x_2^{3} x_1}{\\sqrt{x_1^{2} + x_2^{2}}} - 0.63 x_1 x_2 \\sqrt{x_1^{2} + x_2^{2}} - \\frac{0.105 x_1^{3} x_2}{\\sqrt{x_1^{2} + x_2^{2}}} + 35 \\left( \\sqrt{x_1^{2} + x_2^{2}} \\right)^{3} x_1 x_2 \\\\\n",
       " - \\frac{0.105 x_2^{3} x_1}{\\sqrt{x_1^{2} + x_2^{2}}} - 0.63 x_1 x_2 \\sqrt{x_1^{2} + x_2^{2}} - \\frac{0.105 x_1^{3} x_2}{\\sqrt{x_1^{2} + x_2^{2}}} - \\frac{0.00031499999999999996 x_1^{3} x_2}{\\left( \\sqrt{x_1^{2} + x_2^{2}} \\right)^{3}} - \\frac{0.001365 x_2^{3} x_1}{\\left( \\sqrt{x_1^{2} + x_2^{2}} \\right)^{3}} + \\frac{0.00031499999999999996 x_2^{3} x_1^{3}}{\\left( \\sqrt{x_1^{2} + x_2^{2}} \\right)^{5}} + \\frac{0.0025199999999999997 x_1 x_2}{\\sqrt{x_1^{2} + x_2^{2}}} + \\frac{0.00031499999999999996 x_2^{5} x_1}{\\left( \\sqrt{x_1^{2} + x_2^{2}} \\right)^{5}} - \\frac{0.001365 x_1^{3} x_2}{\\left( \\sqrt{x_1^{2} + x_2^{2}} \\right)^{3}} - \\frac{0.00031499999999999996 x_2^{3} x_1}{\\left( \\sqrt{x_1^{2} + x_2^{2}} \\right)^{3}} + \\frac{0.00031499999999999996 x_1^{5} x_2}{\\left( \\sqrt{x_1^{2} + x_2^{2}} \\right)^{5}} + \\frac{0.0025199999999999997 x_1 x_2}{\\sqrt{x_1^{2} + x_2^{2}}} + \\frac{0.00031499999999999996 x_2^{3} x_1^{3}}{\\left( \\sqrt{x_1^{2} + x_2^{2}} \\right)^{5}} - \\frac{0.105 x_2^{3} x_1}{\\sqrt{x_1^{2} + x_2^{2}}} - 0.63 x_1 x_2 \\sqrt{x_1^{2} + x_2^{2}} - \\frac{0.105 x_1^{3} x_2}{\\sqrt{x_1^{2} + x_2^{2}}} + 34.999965 \\left( \\sqrt{x_1^{2} + x_2^{2}} \\right)^{3} x_1 x_2 &  - 7.0e-6 \\left( \\sqrt{x_1^{2} + x_2^{2}} \\right)^{5} - 3.5000000000000004e-5 \\left( \\sqrt{x_1^{2} + x_2^{2}} \\right)^{3} x_2^{2} + 0.14 \\left( \\sqrt{x_1^{2} + x_2^{2}} \\right)^{3} + \\frac{0.105 x_1^{4}}{\\sqrt{x_1^{2} + x_2^{2}}} + 0.105 x_2^{2} \\sqrt{x_1^{2} + x_2^{2}} + 0.735 x_1^{2} \\sqrt{x_1^{2} + x_2^{2}} + \\frac{0.105 x_2^{2} x_1^{2}}{\\sqrt{x_1^{2} + x_2^{2}}} - 0.00189 \\sqrt{x_1^{2} + x_2^{2}} - \\frac{0.00031499999999999996 x_1^{6}}{\\left( \\sqrt{x_1^{2} + x_2^{2}} \\right)^{5}} - \\frac{0.00031499999999999996 x_2^{2}}{\\sqrt{x_1^{2} + x_2^{2}}} - \\frac{0.0053549999999999995 x_1^{2}}{\\sqrt{x_1^{2} + x_2^{2}}} + \\frac{0.0016799999999999999 x_1^{4}}{\\left( \\sqrt{x_1^{2} + x_2^{2}} \\right)^{3}} - \\frac{0.00031499999999999996 x_2^{2} x_1^{4}}{\\left( \\sqrt{x_1^{2} + x_2^{2}} \\right)^{5}} + \\frac{0.0006299999999999999 x_2^{2} x_1^{2}}{\\left( \\sqrt{x_1^{2} + x_2^{2}} \\right)^{3}} - 0.0006299999999999999 \\sqrt{x_1^{2} + x_2^{2}} + \\frac{0.00010499999999999999 x_1^{4}}{\\left( \\sqrt{x_1^{2} + x_2^{2}} \\right)^{3}} + \\frac{0.00010499999999999999 x_2^{4}}{\\left( \\sqrt{x_1^{2} + x_2^{2}} \\right)^{3}} - \\frac{0.000945 x_1^{2}}{\\sqrt{x_1^{2} + x_2^{2}}} - \\frac{0.000945 x_2^{2}}{\\sqrt{x_1^{2} + x_2^{2}}} - \\frac{0.00031499999999999996 x_2^{2} x_1^{4}}{\\left( \\sqrt{x_1^{2} + x_2^{2}} \\right)^{5}} - \\frac{0.00031499999999999996 x_2^{4} x_1^{2}}{\\left( \\sqrt{x_1^{2} + x_2^{2}} \\right)^{5}} + \\frac{0.0012599999999999998 x_2^{2} x_1^{2}}{\\left( \\sqrt{x_1^{2} + x_2^{2}} \\right)^{3}} + 0.14 \\left( \\sqrt{x_1^{2} + x_2^{2}} \\right)^{3} + \\frac{0.105 x_1^{4}}{\\sqrt{x_1^{2} + x_2^{2}}} + 0.105 x_2^{2} \\sqrt{x_1^{2} + x_2^{2}} + 0.735 x_1^{2} \\sqrt{x_1^{2} + x_2^{2}} + \\frac{0.105 x_2^{2} x_1^{2}}{\\sqrt{x_1^{2} + x_2^{2}}} - 7 \\left( \\sqrt{x_1^{2} + x_2^{2}} \\right)^{5} - 35 \\left( \\sqrt{x_1^{2} + x_2^{2}} \\right)^{3} x_1^{2} &  - \\frac{0.105 x_2^{3} x_1}{\\sqrt{x_1^{2} + x_2^{2}}} - 0.63 x_1 x_2 \\sqrt{x_1^{2} + x_2^{2}} - \\frac{0.105 x_1^{3} x_2}{\\sqrt{x_1^{2} + x_2^{2}}} + 35 \\left( \\sqrt{x_1^{2} + x_2^{2}} \\right)^{3} x_1 x_2 & 0.14 \\left( \\sqrt{x_1^{2} + x_2^{2}} \\right)^{3} + \\frac{0.105 x_1^{4}}{\\sqrt{x_1^{2} + x_2^{2}}} + 0.105 x_2^{2} \\sqrt{x_1^{2} + x_2^{2}} + 0.735 x_1^{2} \\sqrt{x_1^{2} + x_2^{2}} + \\frac{0.105 x_2^{2} x_1^{2}}{\\sqrt{x_1^{2} + x_2^{2}}} - 7 \\left( \\sqrt{x_1^{2} + x_2^{2}} \\right)^{5} - 35 \\left( \\sqrt{x_1^{2} + x_2^{2}} \\right)^{3} x_1^{2} \\\\\n",
       "0.14 \\left( \\sqrt{x_1^{2} + x_2^{2}} \\right)^{3} + \\frac{0.105 x_2^{4}}{\\sqrt{x_1^{2} + x_2^{2}}} + 0.105 x_1^{2} \\sqrt{x_1^{2} + x_2^{2}} + 0.735 x_2^{2} \\sqrt{x_1^{2} + x_2^{2}} + \\frac{0.105 x_2^{2} x_1^{2}}{\\sqrt{x_1^{2} + x_2^{2}}} - 7 \\left( \\sqrt{x_1^{2} + x_2^{2}} \\right)^{5} - 35 \\left( \\sqrt{x_1^{2} + x_2^{2}} \\right)^{3} x_2^{2} &  - \\frac{0.105 x_2^{3} x_1}{\\sqrt{x_1^{2} + x_2^{2}}} - 0.63 x_1 x_2 \\sqrt{x_1^{2} + x_2^{2}} - \\frac{0.105 x_1^{3} x_2}{\\sqrt{x_1^{2} + x_2^{2}}} + 35 \\left( \\sqrt{x_1^{2} + x_2^{2}} \\right)^{3} x_1 x_2 &  - 7 \\left( \\sqrt{x_1^{2} + x_2^{2}} \\right)^{5} - 35 \\left( \\sqrt{x_1^{2} + x_2^{2}} \\right)^{3} x_2^{2} & 35 \\left( \\sqrt{x_1^{2} + x_2^{2}} \\right)^{3} x_1 x_2 \\\\\n",
       " - \\frac{0.105 x_2^{3} x_1}{\\sqrt{x_1^{2} + x_2^{2}}} - 0.63 x_1 x_2 \\sqrt{x_1^{2} + x_2^{2}} - \\frac{0.105 x_1^{3} x_2}{\\sqrt{x_1^{2} + x_2^{2}}} + 35 \\left( \\sqrt{x_1^{2} + x_2^{2}} \\right)^{3} x_1 x_2 & 0.14 \\left( \\sqrt{x_1^{2} + x_2^{2}} \\right)^{3} + \\frac{0.105 x_1^{4}}{\\sqrt{x_1^{2} + x_2^{2}}} + 0.105 x_2^{2} \\sqrt{x_1^{2} + x_2^{2}} + 0.735 x_1^{2} \\sqrt{x_1^{2} + x_2^{2}} + \\frac{0.105 x_2^{2} x_1^{2}}{\\sqrt{x_1^{2} + x_2^{2}}} - 7 \\left( \\sqrt{x_1^{2} + x_2^{2}} \\right)^{5} - 35 \\left( \\sqrt{x_1^{2} + x_2^{2}} \\right)^{3} x_1^{2} & 35 \\left( \\sqrt{x_1^{2} + x_2^{2}} \\right)^{3} x_1 x_2 &  - 7 \\left( \\sqrt{x_1^{2} + x_2^{2}} \\right)^{5} - 35 \\left( \\sqrt{x_1^{2} + x_2^{2}} \\right)^{3} x_1^{2} \\\\\n",
       "\\end{array}\n",
       "\\right]\n",
       "\\end{equation}\n"
      ],
      "text/plain": [
       "4×4 Matrix{Num}:\n",
       " -7.0e-6(sqrt(x₁^2 + x₂^2)^5) - 3.5e-5(x₁^2)*(sqrt(x₁^2 + x₂^2)^3) + 0.14(sqrt(x₁^2 + x₂^2)^3) + 0.105(x₂^4)*(sqrt(x₁^2 + x₂^2)^-1) + 0.105(x₁^2)*sqrt(x₁^2 + x₂^2) + 0.735(x₂^2)*sqrt(x₁^2 + x₂^2) + 0.105(x₁^2)*(x₂^2)*(sqrt(x₁^2 + x₂^2)^-1) + 0.00168(x₂^4)*(sqrt(x₁^2 + x₂^2)^-3) + 0.00063(x₁^2)*(x₂^2)*(sqrt(x₁^2 + x₂^2)^-3) - 0.00189sqrt(x₁^2 + x₂^2) - 0.000315(x₁^2)*(sqrt(x₁^2 + x₂^2)^-1) - 0.005355(x₂^2)*(sqrt(x₁^2 + x₂^2)^-1) - 0.000315(x₂^6)*(sqrt(x₁^2 + x₂^2)^-5) - 0.000315(x₁^2)*(x₂^4)*(sqrt(x₁^2 + x₂^2)^-5) + 0.000105(x₁^4)*(sqrt(x₁^2 + x₂^2)^-3) + 0.000105(x₂^4)*(sqrt(x₁^2 + x₂^2)^-3) + 0.00126(x₁^2)*(x₂^2)*(sqrt(x₁^2 + x₂^2)^-3) - 0.00063sqrt(x₁^2 + x₂^2) - 0.000945(x₁^2)*(sqrt(x₁^2 + x₂^2)^-1) - 0.000945(x₂^2)*(sqrt(x₁^2 + x₂^2)^-1) - 0.000315(x₁^4)*(x₂^2)*(sqrt(x₁^2 + x₂^2)^-5) - 0.000315(x₁^2)*(x₂^4)*(sqrt(x₁^2 + x₂^2)^-5) + 0.14(sqrt(x₁^2 + x₂^2)^3) + 0.105(x₂^4)*(sqrt(x₁^2 + x₂^2)^-1) + 0.105(x₁^2)*sqrt(x₁^2 + x₂^2) + 0.735(x₂^2)*sqrt(x₁^2 + x₂^2) + 0.105(x₁^2)*(x₂^2)*(sqrt(x₁^2 + x₂^2)^-1) - (7//1)*(sqrt(x₁^2 + x₂^2)^5) - (35//1)*(x₂^2)*(sqrt(x₁^2 + x₂^2)^3)  …                                                                    -0.105x₁*(x₂^3)*(sqrt(x₁^2 + x₂^2)^-1) - 0.63x₁*x₂*sqrt(x₁^2 + x₂^2) - 0.105x₂*(x₁^3)*(sqrt(x₁^2 + x₂^2)^-1) + (35//1)*x₁*x₂*(sqrt(x₁^2 + x₂^2)^3)\n",
       " -0.105x₁*(x₂^3)*(sqrt(x₁^2 + x₂^2)^-1) - 0.63x₁*x₂*sqrt(x₁^2 + x₂^2) - 0.105x₂*(x₁^3)*(sqrt(x₁^2 + x₂^2)^-1) + 0.000315(x₁^3)*(x₂^3)*(sqrt(x₁^2 + x₂^2)^-5) + 0.00252x₁*x₂*(sqrt(x₁^2 + x₂^2)^-1) + 0.000315x₁*(x₂^5)*(sqrt(x₁^2 + x₂^2)^-5) - 0.000315x₂*(x₁^3)*(sqrt(x₁^2 + x₂^2)^-3) - 0.001365x₁*(x₂^3)*(sqrt(x₁^2 + x₂^2)^-3) + 0.000315x₂*(x₁^5)*(sqrt(x₁^2 + x₂^2)^-5) + 0.00252x₁*x₂*(sqrt(x₁^2 + x₂^2)^-1) + 0.000315(x₁^3)*(x₂^3)*(sqrt(x₁^2 + x₂^2)^-5) - 0.001365x₂*(x₁^3)*(sqrt(x₁^2 + x₂^2)^-3) - 0.000315x₁*(x₂^3)*(sqrt(x₁^2 + x₂^2)^-3) - 0.105x₁*(x₂^3)*(sqrt(x₁^2 + x₂^2)^-1) - 0.63x₁*x₂*sqrt(x₁^2 + x₂^2) - 0.105x₂*(x₁^3)*(sqrt(x₁^2 + x₂^2)^-1) + 35.0x₁*x₂*(sqrt(x₁^2 + x₂^2)^3)                                                                                                                                                                                                                                                                                                                                                                                                                                                                                               0.14(sqrt(x₁^2 + x₂^2)^3) + 0.105(x₁^4)*(sqrt(x₁^2 + x₂^2)^-1) + 0.105(x₂^2)*sqrt(x₁^2 + x₂^2) + 0.735(x₁^2)*sqrt(x₁^2 + x₂^2) + 0.105(x₁^2)*(x₂^2)*(sqrt(x₁^2 + x₂^2)^-1) - (7//1)*(sqrt(x₁^2 + x₂^2)^5) - (35//1)*(x₁^2)*(sqrt(x₁^2 + x₂^2)^3)\n",
       "  0.14(sqrt(x₁^2 + x₂^2)^3) + 0.105(x₂^4)*(sqrt(x₁^2 + x₂^2)^-1) + 0.105(x₁^2)*sqrt(x₁^2 + x₂^2) + 0.735(x₂^2)*sqrt(x₁^2 + x₂^2) + 0.105(x₁^2)*(x₂^2)*(sqrt(x₁^2 + x₂^2)^-1) - (7//1)*(sqrt(x₁^2 + x₂^2)^5) - (35//1)*(x₂^2)*(sqrt(x₁^2 + x₂^2)^3)                                                                                                                                                                                                                                                                                                                                                                                                                                                                                                                                                                                                                                                                                                                                                                                                                                                                                                                    (35//1)*x₁*x₂*(sqrt(x₁^2 + x₂^2)^3)\n",
       " -0.105x₁*(x₂^3)*(sqrt(x₁^2 + x₂^2)^-1) - 0.63x₁*x₂*sqrt(x₁^2 + x₂^2) - 0.105x₂*(x₁^3)*(sqrt(x₁^2 + x₂^2)^-1) + (35//1)*x₁*x₂*(sqrt(x₁^2 + x₂^2)^3)                                                                                                                                                                                                                                                                                                                                                                                                                                                                                                                                                                                                                                                                                                                                                                                                                                                                                                                                                                                  (-7//1)*(sqrt(x₁^2 + x₂^2)^5) - (35//1)*(x₁^2)*(sqrt(x₁^2 + x₂^2)^3)"
      ]
     },
     "metadata": {},
     "output_type": "display_data"
    },
    {
     "data": {
      "text/plain": [
       "\"T1 = crete_block_point_tensors([Internal_points,Internal_points,Boundary_points,Boundary_points],\\n[Internal_points,Internal_points,Boundary_points,Boundary_points])\\n#display(typeof(T1))\\nT2 = crete_block_point_tensors([Internal_points,Internal_points,Internal_points],\\n[In\" ⋯ 171 bytes ⋯ \"= flatten(S)\\n\\n#@btime K[1,1]([1,1],1)\\nprintln(cond(A))\\n#display(S)\\n\\ng = generate_vector_function([true_u₁,true_u₂],Boundary_points)\\nf = generate_vector_function([f₁,f₂],Internal_points)\\nref_sol = generate_vector_function([true_u₁,true_u₂,true_p],Internal_points)\\nf(1.2)\\n\""
      ]
     },
     "execution_count": 8,
     "metadata": {},
     "output_type": "execute_result"
    }
   ],
   "source": [
    "parameter = 4\n",
    "K = construct_kernel_array(Φ_div,[λ1x,λ2x,λ3x,λ4x],[λ1y,λ2y,λ3y,λ4y])\n",
    "#display(build_function(K[1,1],[x₁,x₂],ϵ))\n",
    "K = substitute.(K, Δt=>0.001)\n",
    "display(K)\n",
    "K = compile_kernel_array(K)\n",
    "\n",
    "R = construct_kernel_array(Φ_div,[λu,λv,λp],[λ1y,λ2y,λ3y,λ4y])\n",
    "#display(R)\n",
    "#R = substitute.(R, Δt=>0.001) \n",
    "R = compile_kernel_array(R)\n",
    "\"\"\"\n",
    "T1 = crete_block_point_tensors([Internal_points,Internal_points,Boundary_points,Boundary_points],\n",
    "[Internal_points,Internal_points,Boundary_points,Boundary_points])\n",
    "#display(typeof(T1))\n",
    "T2 = crete_block_point_tensors([Internal_points,Internal_points,Internal_points],\n",
    "[Internal_points,Internal_points,Boundary_points,Boundary_points])\n",
    "\n",
    "A = generate_block_matrices(K,T1,parameter)\n",
    "A = flatten(A)\n",
    "\n",
    "S = generate_block_matrices(R,T2,parameter)\n",
    "S = flatten(S)\n",
    "\n",
    "#@btime K[1,1]([1,1],1)\n",
    "println(cond(A))\n",
    "#display(S)\n",
    "\n",
    "g = generate_vector_function([true_u₁,true_u₂],Boundary_points)\n",
    "f = generate_vector_function([f₁,f₂],Internal_points)\n",
    "ref_sol = generate_vector_function([true_u₁,true_u₂,true_p],Internal_points)\n",
    "f(1.2)\n",
    "\"\"\""
   ]
  },
  {
   "cell_type": "code",
   "execution_count": 47,
   "metadata": {},
   "outputs": [
    {
     "data": {
      "text/plain": [
       "Sol([0.0, 0.001, 0.002, 0.003, 0.004, 0.005, 0.006, 0.007, 0.008, 0.009000000000000001  …  1.991, 1.992, 1.993, 1.994, 1.995, 1.996, 1.997, 1.998, 1.999, 2.0], [0.0 0.00596480281014167 … -0.00506624000460094 0.0020228961234144555; 0.0 0.007736181993225017 … -0.006411647590320278 0.001749129258060494; … ; 0.0 -0.39347726046397413 … 0.3706239442230765 0.3709424117535731; 0.0 -0.18782948412646816 … 0.35495581348295113 0.3550880280371048])"
      ]
     },
     "execution_count": 47,
     "metadata": {},
     "output_type": "execute_result"
    }
   ],
   "source": [
    "\n",
    "function generate_solution(A,S,u0,dt,N_t,N_i,N_b,f,g)\n",
    "    n = size(S)[1]\n",
    "    RHS = zeros(N_i*2+2*N_b)\n",
    "    RHS[1:2*N_i] .= u0 .+ dt*f(0.0+dt)\n",
    "    RHS[2*N_i+1:end] .= g(0.0+dt)\n",
    "    A_inv = inv(A)\n",
    "    solution_array = zeros((n,N_t+1))\n",
    "    u = vcat(u0,zeros(N_i))\n",
    "    solution_array[:,1] .= u\n",
    "    t_array = [0.0]\n",
    "    for i in 1:N_t\n",
    "        append!(t_array,[i*dt])\n",
    "        u = S*A_inv*RHS\n",
    "        solution_array[:,i+1] .= u\n",
    "        # update RHS for next iteration\n",
    "        RHS[1:2*N_i] .= u[1:2*N_i] .+ dt*f((i+1)*dt)\n",
    "        RHS[2*N_i+1:end] .= g((i+1)*dt)\n",
    "    end\n",
    "    solution = Sol(t_array,solution_array)\n",
    "    return solution\n",
    "end\n",
    "u0 = ref_sol(0.0)[1:2*N_i]\n",
    "dt = 0.001\n",
    "N_t = 2000\n",
    "solution = generate_solution(A,S,u0,dt,N_t,N_i,N_b,f,g)\n"
   ]
  },
  {
   "cell_type": "code",
   "execution_count": 42,
   "metadata": {},
   "outputs": [
    {
     "data": {
      "text/plain": [
       "294-element Vector{Float64}:\n",
       " 0.0\n",
       " 0.04095680519399969\n",
       " 0.03994272894878448\n",
       " 0.03631406481646665\n",
       " 0.03932770288503046\n",
       " 0.03160185151980549\n",
       " 0.02753415349109145\n",
       " 0.022947340200078936\n",
       " 0.015456004219793262\n",
       " 0.03389436350653463\n",
       " 0.030416488400618447\n",
       " 0.036693588872385385\n",
       " 0.03388273679009557\n",
       " ⋮\n",
       " 0.0842313556096812\n",
       " 0.059710168206040026\n",
       " 0.08389116294598187\n",
       " 0.09861445243257544\n",
       " 0.130340411503511\n",
       " 0.064186648126069\n",
       " 0.1529166104095613\n",
       " 0.11537241763236006\n",
       " 0.07232001694010542\n",
       " 0.08479980807231091\n",
       " 0.08124860937904288\n",
       " 0.10291501142475235"
      ]
     },
     "execution_count": 42,
     "metadata": {},
     "output_type": "execute_result"
    }
   ],
   "source": [
    "maximum(solution(0.5)[1:2*N_i] - ref_sol(0.5)[1:2*N_i])\n",
    "(solution(0.5)[1+2*N_i:end] - ref_sol(0.5)[1+2*N_i:end]) .- (solution(0.5)[1+2*N_i:end] - ref_sol(0.5)[1+2*N_i:end])[1]"
   ]
  },
  {
   "cell_type": "code",
   "execution_count": 48,
   "metadata": {},
   "outputs": [
    {
     "data": {
      "text/plain": [
       "\"ODE_method.gif\""
      ]
     },
     "execution_count": 48,
     "metadata": {},
     "output_type": "execute_result"
    }
   ],
   "source": [
    "time = Observable(0.0)\n",
    "xs = Internal_points[1,:]\n",
    "ys = Internal_points[2,:]\n",
    "us = @lift solution($time)[1:N_i] #- u_true($time)[1:N_i]\n",
    "vs = @lift solution($time)[N_i+1:2*N_i]  #- u_true($time)[N_i+1:end] \n",
    "title = @lift string(round($time, digits=2))\n",
    "strength2 = @lift sqrt.(solution($time+0.01)[1:N_i] .^ 2 .+ solution($time+0.01)[N_i+1:2*N_i] .^ 2) \n",
    "\n",
    "fig = Figure(resolution = (800, 800))\n",
    "Axis(fig[1, 1], backgroundcolor = \"black\",title = title)\n",
    "arrows!(xs, ys, us, vs, arrowsize = 10, lengthscale = 0.1, arrowcolor = strength2, linecolor = strength2) #, \n",
    "framerate = 30\n",
    "timestamps = range(0.0, 1.999, step=1/framerate)\n",
    "record(fig, \"ODE_method.gif\", timestamps; framerate = framerate) do ti\n",
    "    time[] = ti\n",
    "end\n"
   ]
  },
  {
   "cell_type": "code",
   "execution_count": null,
   "metadata": {},
   "outputs": [
    {
     "ename": "LoadError",
     "evalue": "syntax: invalid escape sequence",
     "output_type": "error",
     "traceback": [
      "syntax: invalid escape sequence",
      "",
      "Stacktrace:",
      " [1] top-level scope",
      "   @ In[9]:30"
     ]
    }
   ],
   "source": []
  }
 ],
 "metadata": {
  "kernelspec": {
   "display_name": "Julia 1.7.1",
   "language": "julia",
   "name": "julia-1.7"
  },
  "language_info": {
   "file_extension": ".jl",
   "mimetype": "application/julia",
   "name": "julia",
   "version": "1.7.1"
  },
  "orig_nbformat": 4
 },
 "nbformat": 4,
 "nbformat_minor": 2
}
