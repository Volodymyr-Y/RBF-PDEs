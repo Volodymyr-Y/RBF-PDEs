{
 "cells": [
  {
   "attachments": {},
   "cell_type": "markdown",
   "metadata": {},
   "source": [
    "Calculate functionals with symbolics \n",
    "create kernel \n",
    "\n",
    "Create points \n",
    "\n",
    "construnct distance tnsors \n",
    "\n",
    "\n",
    "apply kernel to a distance tensor \n",
    "\n",
    "assemble RHS and matrices \n",
    "\n",
    "Assemble DAE \n",
    "\n",
    "Solve with diffeq.jl or custom code \n",
    "\n",
    "\n",
    "\n"
   ]
  },
  {
   "cell_type": "code",
   "execution_count": 1,
   "metadata": {},
   "outputs": [],
   "source": [
    "using Revise\n",
    "using CairoMakie\n",
    "using Symbolics\n",
    "using Latexify\n",
    "using DifferentialEquations\n",
    "using Sundials\n",
    "cd(\"..\")\n",
    "include(\"RBFunctions.jl\")\n",
    "cd(\"circular_stokes_flow\")"
   ]
  },
  {
   "cell_type": "code",
   "execution_count": 2,
   "metadata": {},
   "outputs": [
    {
     "data": {
      "text/plain": [
       "flatten (generic function with 1 method)"
      ]
     },
     "execution_count": 2,
     "metadata": {},
     "output_type": "execute_result"
    }
   ],
   "source": [
    "@variables ϵ r x₁ x₂ t;\n",
    "const nu = 1.0\n",
    "#ϕ = 1//945 * ((ϵ*r)^5 +15*(ϵ*r)^3 + 105*(ϵ*r)^2 + 945*(ϵ*r)+ 945)* exp(-ϵ*r)\n",
    "ϕ = exp(-r^2*ϵ^2)\n",
    "ϕ = substitute(ϕ, r=>sqrt(x₁^2 + x₂^2)) \n",
    "#display(ϕ)  \n",
    "Δ(exprs) = expand_derivatives((Differential(x₁)^2)(exprs) + (Differential(x₂)^2)(exprs))\n",
    "∂₁(exprs) = expand_derivatives(Differential(x₁)(exprs))\n",
    "∂₂(exprs) = expand_derivatives(Differential(x₂)(exprs))\n",
    "∂ₜ(exprs) = expand_derivatives(Differential(t)(exprs))\n",
    "\n",
    "Φ_div = ([-∂₂(∂₂(ϕ)) ∂₁(∂₂(ϕ)) 0.0 ; ∂₁(∂₂(ϕ)) -∂₁(∂₁(ϕ)) 0.0; 0.0 0.0 ϕ])\n",
    "ΔΦ_div= Δ.([-∂₂(∂₂(ϕ)) ∂₁(∂₂(ϕ)); ∂₁(∂₂(ϕ)) -∂₁(∂₁(ϕ))])\n",
    "Φ_curl = ([-∂₁(∂₁(ϕ)) -∂₁(∂₂(ϕ)); -∂₁(∂₂(ϕ)) -∂₂(∂₂(ϕ))])\n",
    "Φ = [ϕ 0.0 0.0; 0.0 ϕ 0.0;0.0 0.0 ϕ]\n",
    "#ΔΦ = [Δ(ϕ) 0 ; 0 Δ(ϕ)]\n",
    "true_u₁ = -x₂*π*sin(π*0.5*(x₁*x₁ + x₂*x₂))*sin(π*t)\n",
    "true_u₂ =  x₁*π*sin(π*0.5*(x₁*x₁ + x₂*x₂))*sin(π*t)\n",
    "true_∂ₜu₁ = ∂ₜ(true_u₁)\n",
    "true_∂ₜu₂  = ∂ₜ(true_u₂)\n",
    "true_p = sin(x₁-x₂+t)\n",
    "true_∂₁p = ∂₁(true_p)\n",
    "true_∂₂p = ∂₂(true_p)\n",
    "f₁ = ∂ₜ(true_u₁) - nu*Δ(true_u₁) + true_∂₁p\n",
    "f₂ = ∂ₜ(true_u₂) - nu*Δ(true_u₂) + true_∂₂p\n",
    "\n",
    "\n",
    "true_u₁ = eval(build_function(true_u₁,x₁, x₂, t))\n",
    "true_u₂ = eval(build_function(true_u₂,x₁, x₂, t))\n",
    "true_p = eval(build_function(true_p,x₁, x₂, t))\n",
    "true_∂₁p = eval(build_function(true_∂₁p,x₁, x₂, t))\n",
    "true_∂₂p = eval(build_function(true_∂₂p,x₁, x₂, t))\n",
    "f₁ = eval(build_function(f₁,x₁, x₂, t))\n",
    "f₂ = eval(build_function(f₂,x₁, x₂, t))\n",
    "∂ₜu₁ = eval(build_function(true_∂ₜu₁,x₁, x₂, t))\n",
    "∂ₜu₂  = eval(build_function(true_∂ₜu₂,x₁, x₂, t))\n",
    "zero_func(x₁,x₂,t) = 0.0\n",
    "#display(Φ)\n",
    "#display(Φ[1,:])\n",
    "λ₁(x) = x[1]\n",
    "λ₂(x) = x[2]\n",
    "λ₃(x) = x[3]\n",
    "λ₄(x) = x[1]\n",
    "λ₅(x) = x[2]\n",
    "\n",
    "λ∂ₜu₁(x) = Δ(x[1]) - ∂₁(x[3]) \n",
    "λ∂ₜu₂(x) = Δ(x[2]) - ∂₂(x[3]) \n",
    "λ∇u(x) = ∂₁(x[1]) + ∂₂(x[2]) \n",
    "\n",
    "\n",
    "function construct_kernel_array(matrix_kernel,functionals1,functionals2)\n",
    "    N1 = length(functionals1)\n",
    "    N2 = length(functionals2)\n",
    "    M = Matrix{typeof(matrix_kernel[1,1])}(undef,N1,N2)\n",
    "    for j = 1:N2\n",
    "        λⱼ = functionals2[j]\n",
    "        v = [λⱼ(matrix_kernel[1,:]),λⱼ(matrix_kernel[2,:]),λⱼ(matrix_kernel[3,:])]\n",
    "        for i = 1:N1\n",
    "            λᵢ = functionals1[i]\n",
    "            M[i,j] = λᵢ(v)\n",
    "        end\n",
    "    end\n",
    "    return M \n",
    "end\n",
    "\n",
    "function compile_kernel_array(M)\n",
    "    N1 = size(M)[1]\n",
    "    N2 = size(M)[2]\n",
    "    P = Matrix{Function}(undef,N1,N2)\n",
    "    for i = 1:N1\n",
    "        for j = 1:N2\n",
    "            #display(M[i,j])\n",
    "            P[i,j] = eval(build_function(M[i,j], [x₁, x₂], ϵ))\n",
    "        end\n",
    "    end\n",
    "    return P\n",
    "end\n",
    "\n",
    "function crete_block_point_tensors(p_list1,p_list2)\n",
    "    N1 = length(p_list1)\n",
    "    N2 = length(p_list2)\n",
    "    M = Matrix{Array{Float64, 3}}(undef,N1,N2)\n",
    "    for i in 1:N1\n",
    "        for j in 1:N2\n",
    "            M[i,j] = point_difference_tensor(p_list1[i],p_list2[j])\n",
    "        end\n",
    "    end\n",
    "\n",
    "    return M\n",
    "end\n",
    "#point_difference_tensor(Internal_points,Internal_points)\n",
    "function generate_block_matrices(function_array,tensor_array,param)\n",
    "    n1,n2 = size(tensor_array)\n",
    "    if size(tensor_array) != size(function_array)\n",
    "        return ArgumentError(\"function array and tensor array size mismatch\")\n",
    "    end\n",
    "    M = Matrix{Matrix}(undef,n1,n2)\n",
    "    for i in 1:n1\n",
    "        for j in 1:n2\n",
    "            #display(function_array[i,j])\n",
    "            #display(tensor_array[i,j])\n",
    "            M[i,j] = apply(function_array[i,j], tensor_array[i,j], param)\n",
    "        end\n",
    "    end\n",
    "    return M\n",
    "end\n",
    "function flatten(block_matrix)\n",
    "    # flattens block matrices into usual matrices \n",
    "    n1,n2 = size(block_matrix)\n",
    "    res = hcat(block_matrix[1,:]...)\n",
    "    #println(size(res))\n",
    "    for i in 2:n1\n",
    "        row  = hcat(block_matrix[i,:]...)\n",
    "        res = vcat(res,row)\n",
    "        #println(size(row))\n",
    "    end\n",
    "    return res\n",
    "end\n"
   ]
  },
  {
   "cell_type": "code",
   "execution_count": 3,
   "metadata": {},
   "outputs": [
    {
     "name": "stdout",
     "output_type": "stream",
     "text": [
      "total number of nodes: 90\n",
      "number og internal_nodes: 57\n"
     ]
    }
   ],
   "source": [
    "#generate points for circular flow benchmark \n",
    "using DistMesh2D\n",
    "fdistance(p) = sqrt(sum(p .^ 2)) - 1\n",
    "fedgelength(p) = 1/(sqrt(sum(p .^ 2))+1)\n",
    "boundingbox = [-1.1 -1.1; 1.1 1.1]\n",
    "initdistance = 0.2\n",
    "x, y = distmesh2d(fdistance, fedgelength, boundingbox, initdistance)\n",
    "\n",
    "# generate points, reference solution, forcing vector, and boundary conditions \n",
    "tx = unique(filter(e -> !isequal(e,NaN) ,x))\n",
    "ty = unique(filter(e -> !isequal(e,NaN) ,y))\n",
    "\n",
    "points = hcat(tx,ty)'\n",
    "\n",
    "Internal_points = []\n",
    "Boundary_points = []\n",
    "suma = 0\n",
    "for i in 1:length(tx)\n",
    "    if abs(sum(points[:,i] .^2) - 1) < 1e-8\n",
    "        #println(i)\n",
    "        suma +=1\n",
    "        append!(Boundary_points,[points[:,i]])\n",
    "    else\n",
    "        append!(Internal_points,[points[:,i]])\n",
    "    end\n",
    "    \n",
    "end\n",
    "\n",
    "Internal_points = hcat(Internal_points...)\n",
    "Boundary_points = hcat(Boundary_points...)\n",
    "All_points = hcat(Internal_points,Boundary_points)\n",
    "N_i = size(Internal_points)[2]\n",
    "N_b = size(Boundary_points)[2]\n",
    "N = N_i + N_b\n",
    "println(\"total number of nodes: \",N)\n",
    "println(\"number og internal_nodes: \",N_i)"
   ]
  },
  {
   "cell_type": "code",
   "execution_count": 4,
   "metadata": {},
   "outputs": [
    {
     "data": {
      "text/latex": [
       "\\begin{equation}\n",
       "\\left[\n",
       "\\begin{array}{ccccc}\n",
       " - 4 \\epsilon^{2} e^{ - \\left( \\sqrt{x_1^{2} + x_2^{2}} \\right)^{2} \\epsilon^{2}} + 4 \\epsilon^{4} x_1^{2} e^{ - \\left( \\sqrt{x_1^{2} + x_2^{2}} \\right)^{2} \\epsilon^{2}} + 4 \\epsilon^{4} x_2^{2} e^{ - \\left( \\sqrt{x_1^{2} + x_2^{2}} \\right)^{2} \\epsilon^{2}} & 0 & 2 \\epsilon^{2} x_1 e^{ - \\left( \\sqrt{x_1^{2} + x_2^{2}} \\right)^{2} \\epsilon^{2}} &  - 4 \\epsilon^{2} e^{ - \\left( \\sqrt{x_1^{2} + x_2^{2}} \\right)^{2} \\epsilon^{2}} + 4 \\epsilon^{4} x_1^{2} e^{ - \\left( \\sqrt{x_1^{2} + x_2^{2}} \\right)^{2} \\epsilon^{2}} + 4 \\epsilon^{4} x_2^{2} e^{ - \\left( \\sqrt{x_1^{2} + x_2^{2}} \\right)^{2} \\epsilon^{2}} & 0 \\\\\n",
       "0 &  - 4 \\epsilon^{2} e^{ - \\left( \\sqrt{x_1^{2} + x_2^{2}} \\right)^{2} \\epsilon^{2}} + 4 \\epsilon^{4} x_1^{2} e^{ - \\left( \\sqrt{x_1^{2} + x_2^{2}} \\right)^{2} \\epsilon^{2}} + 4 \\epsilon^{4} x_2^{2} e^{ - \\left( \\sqrt{x_1^{2} + x_2^{2}} \\right)^{2} \\epsilon^{2}} & 2 \\epsilon^{2} x_2 e^{ - \\left( \\sqrt{x_1^{2} + x_2^{2}} \\right)^{2} \\epsilon^{2}} & 0 &  - 4 \\epsilon^{2} e^{ - \\left( \\sqrt{x_1^{2} + x_2^{2}} \\right)^{2} \\epsilon^{2}} + 4 \\epsilon^{4} x_1^{2} e^{ - \\left( \\sqrt{x_1^{2} + x_2^{2}} \\right)^{2} \\epsilon^{2}} + 4 \\epsilon^{4} x_2^{2} e^{ - \\left( \\sqrt{x_1^{2} + x_2^{2}} \\right)^{2} \\epsilon^{2}} \\\\\n",
       " - 2 \\epsilon^{2} x_1 e^{ - \\left( \\sqrt{x_1^{2} + x_2^{2}} \\right)^{2} \\epsilon^{2}} &  - 2 \\epsilon^{2} x_2 e^{ - \\left( \\sqrt{x_1^{2} + x_2^{2}} \\right)^{2} \\epsilon^{2}} & 0 &  - 2 \\epsilon^{2} x_1 e^{ - \\left( \\sqrt{x_1^{2} + x_2^{2}} \\right)^{2} \\epsilon^{2}} &  - 2 \\epsilon^{2} x_2 e^{ - \\left( \\sqrt{x_1^{2} + x_2^{2}} \\right)^{2} \\epsilon^{2}} \\\\\n",
       "\\end{array}\n",
       "\\right]\n",
       "\\end{equation}\n"
      ],
      "text/plain": [
       "3×5 Matrix{Num}:\n",
       " (4//1)*(x₁^2)*(ϵ^4)*exp(-(ϵ^2)*(sqrt(x₁^2 + x₂^2)^2)) + (4//1)*(x₂^2)*(ϵ^4)*exp(-(ϵ^2)*(sqrt(x₁^2 + x₂^2)^2)) - (4//1)*(ϵ^2)*exp(-(ϵ^2)*(sqrt(x₁^2 + x₂^2)^2))  …                     0\n",
       "                    0                                                                                                                                               (4//1)*(x₁^2)*(ϵ^4)*exp(-(ϵ^2)*(sqrt(x₁^2 + x₂^2)^2)) + (4//1)*(x₂^2)*(ϵ^4)*exp(-(ϵ^2)*(sqrt(x₁^2 + x₂^2)^2)) - (4//1)*(ϵ^2)*exp(-(ϵ^2)*(sqrt(x₁^2 + x₂^2)^2))\n",
       "    (-2//1)*x₁*(ϵ^2)*exp(-(ϵ^2)*(sqrt(x₁^2 + x₂^2)^2))                                                                                                                 (-2//1)*x₂*(ϵ^2)*exp(-(ϵ^2)*(sqrt(x₁^2 + x₂^2)^2))"
      ]
     },
     "metadata": {},
     "output_type": "display_data"
    },
    {
     "data": {
      "text/latex": [
       "\\begin{equation}\n",
       "\\left[\n",
       "\\begin{array}{ccccc}\n",
       "e^{ - \\left( \\sqrt{x_1^{2} + x_2^{2}} \\right)^{2} \\epsilon^{2}} & 0.0 & 0.0 & e^{ - \\left( \\sqrt{x_1^{2} + x_2^{2}} \\right)^{2} \\epsilon^{2}} & 0.0 \\\\\n",
       "0.0 & e^{ - \\left( \\sqrt{x_1^{2} + x_2^{2}} \\right)^{2} \\epsilon^{2}} & 0.0 & 0.0 & e^{ - \\left( \\sqrt{x_1^{2} + x_2^{2}} \\right)^{2} \\epsilon^{2}} \\\\\n",
       "0.0 & 0.0 & e^{ - \\left( \\sqrt{x_1^{2} + x_2^{2}} \\right)^{2} \\epsilon^{2}} & 0.0 & 0.0 \\\\\n",
       "e^{ - \\left( \\sqrt{x_1^{2} + x_2^{2}} \\right)^{2} \\epsilon^{2}} & 0.0 & 0.0 & e^{ - \\left( \\sqrt{x_1^{2} + x_2^{2}} \\right)^{2} \\epsilon^{2}} & 0.0 \\\\\n",
       "0.0 & e^{ - \\left( \\sqrt{x_1^{2} + x_2^{2}} \\right)^{2} \\epsilon^{2}} & 0.0 & 0.0 & e^{ - \\left( \\sqrt{x_1^{2} + x_2^{2}} \\right)^{2} \\epsilon^{2}} \\\\\n",
       "\\end{array}\n",
       "\\right]\n",
       "\\end{equation}\n"
      ],
      "text/plain": [
       "5×5 Matrix{Num}:\n",
       "  exp(-(ϵ^2)*(sqrt(x₁^2 + x₂^2)^2))  …  0.0\n",
       " 0.0                                     exp(-(ϵ^2)*(sqrt(x₁^2 + x₂^2)^2))\n",
       " 0.0                                    0.0\n",
       "  exp(-(ϵ^2)*(sqrt(x₁^2 + x₂^2)^2))     0.0\n",
       " 0.0                                     exp(-(ϵ^2)*(sqrt(x₁^2 + x₂^2)^2))"
      ]
     },
     "metadata": {},
     "output_type": "display_data"
    },
    {
     "name": "stdout",
     "output_type": "stream",
     "text": [
      "3.36039353249337e6\n",
      "max eigenval: 1.0574474049211222\n"
     ]
    },
    {
     "data": {
      "text/plain": [
       "2.525235234084139e-13"
      ]
     },
     "execution_count": 4,
     "metadata": {},
     "output_type": "execute_result"
    }
   ],
   "source": [
    "Interpolating_kernel_array = construct_kernel_array(Φ,[λ₁,λ₂,λ₃,λ₄,λ₅],[λ₁,λ₂,λ₃,λ₄,λ₅])\n",
    "ODE_kernel_array = construct_kernel_array(Φ,[λ∂ₜu₁,λ∂ₜu₂,λ∇u],[λ₁,λ₂,λ₃,λ₄,λ₅])\n",
    "display(ODE_kernel_array)\n",
    "display(Interpolating_kernel_array)\n",
    "ODE_function_array = compile_kernel_array(ODE_kernel_array)\n",
    "Interpolating_function_array = compile_kernel_array(Interpolating_kernel_array)\n",
    "K_ = crete_block_point_tensors([Internal_points,Internal_points,Internal_points,Boundary_points,Boundary_points],\n",
    "[Internal_points,Internal_points,Internal_points,Boundary_points,Boundary_points])\n",
    "S_= crete_block_point_tensors([Internal_points,Internal_points,Internal_points],\n",
    "[Internal_points,Internal_points,Internal_points,Boundary_points,Boundary_points])\n",
    "\n",
    "K = flatten(generate_block_matrices(Interpolating_function_array,K_,2))\n",
    "S = flatten(generate_block_matrices(ODE_function_array,S_,2))\n",
    "println(cond(K))\n",
    "C = S*inv(K)\n",
    "A = C[:,1:3*N_i]\n",
    "B = C[:,3*N_i+1:end]\n",
    "E = zeros((3*N_i,3*N_i))\n",
    "E[1:2*N_i,1:2*N_i] = I(2*N_i)\n",
    "#display(A)\n",
    "#display(B)\n",
    "#display(E)\n",
    "\n",
    "cond(A)\n",
    "println(\"max eigenval: \",maximum(real.(eigvals(A))))\n",
    "\"\"\"assemble RHS vectors\"\"\"\n",
    "f = generate_vector_function([f₁,f₂,zero_func],Internal_points)\n",
    "f2 = generate_vector_function(f₁,f₂,Internal_points,Mixed=false)\n",
    "g= generate_vector_function(true_u₁,true_u₂,Boundary_points;Mixed=false)\n",
    "u_true = generate_vector_function(true_u₁,true_u₂,Internal_points;Mixed=false)\n",
    "p_true = generate_vector_function(true_p,Internal_points)\n",
    "sol_true = generate_vector_function([f₁,f₂,true_p],Internal_points)\n",
    "#display(A[2*N_i+1:end,2*N_i+1:end])\n",
    "minimum(abs.(inv(A)))"
   ]
  },
  {
   "cell_type": "code",
   "execution_count": 5,
   "metadata": {},
   "outputs": [
    {
     "data": {
      "text/plain": [
       "171-element Vector{Float64}:\n",
       "  0.0\n",
       "  0.0\n",
       "  0.0\n",
       "  0.0\n",
       "  0.0\n",
       "  0.0\n",
       "  0.0\n",
       "  0.0\n",
       "  0.0\n",
       "  0.0\n",
       "  0.0\n",
       "  0.0\n",
       "  0.0\n",
       "  ⋮\n",
       "  0.3983963846461466\n",
       "  0.16035678371952294\n",
       " -0.33393990265035167\n",
       " -0.5732978124894794\n",
       " -0.35390759448667325\n",
       " -0.08694637638377417\n",
       " -0.7588905529450286\n",
       " -0.9086037000970949\n",
       " -0.587316026587866\n",
       " -0.7415557877279925\n",
       " -0.8287358709046245\n",
       " -0.8978851034647041"
      ]
     },
     "metadata": {},
     "output_type": "display_data"
    },
    {
     "data": {
      "text/plain": [
       "retcode: Success\n",
       "Interpolation: 3rd order Hermite\n",
       "t: 66-element Vector{Float64}:\n",
       " 0.0\n",
       " 1.0e-6\n",
       " 2.0e-6\n",
       " 6.304697672883765e-6\n",
       " 4.935167440172142e-5\n",
       " 0.000479821441690098\n",
       " 0.0018653111546637487\n",
       " 0.0029891221594647876\n",
       " 0.004112933164265827\n",
       " 0.005591245098128567\n",
       " 0.007423802989028691\n",
       " 0.009435787015668683\n",
       " 0.011749918697261833\n",
       " ⋮\n",
       " 1.6230982204973854\n",
       " 1.673080699489402\n",
       " 1.7230631784814188\n",
       " 1.7705060775977757\n",
       " 1.8129077718200288\n",
       " 1.855309466042282\n",
       " 1.888908896941143\n",
       " 1.922508327840004\n",
       " 1.9493488824151397\n",
       " 1.9734471110224376\n",
       " 1.9919845317178868\n",
       " 2.0\n",
       "u: 66-element Vector{Vector{Float64}}:\n",
       " [0.0, 0.0, 0.0, 0.0, 0.0, 0.0, 0.0, 0.0, 0.0, 0.0  …  -0.33393990265035167, -0.5732978124894794, -0.35390759448667325, -0.08694637638377417, -0.7588905529450286, -0.9086037000970949, -0.587316026587866, -0.7415557877279925, -0.8287358709046245, -0.8978851034647041]\n",
       " [4.9643612003635196e-6, 6.6010784627688884e-6, 3.2323008938444047e-6, 6.468502327522062e-6, 7.152000311907665e-6, 6.406482575527042e-6, 3.844691972033305e-6, 3.1837591551987115e-6, 6.526843516131052e-6, 7.122733847814038e-6  …  -0.28267735150677775, -0.47062154670760264, -0.3052286668246277, -0.08447116938446315, -0.6356576091390884, -0.7554745638818803, -0.49006530906787815, -0.6034042083526674, -0.6850824854050958, -0.7410248259303687]\n",
       " [9.928687629890332e-6, 1.3202138400090094e-5, 6.464584870380372e-6, 1.2936975819410046e-5, 1.43039919497908e-5, 1.2812942283002619e-5, 7.689371475474805e-6, 6.367503403254076e-6, 1.305367350110494e-5, 1.424546145546692e-5  …  -0.28272864509797724, -0.47068406457322015, -0.3052780361729261, -0.08451102900391398, -0.6357272478257618, -0.7555534859701385, -0.4901276922827368, -0.6034767384430874, -0.6851579775077459, -0.7411019099093683]\n",
       " [3.129800065497538e-5, 4.161737992658554e-5, 2.0378292680764143e-5, 4.0781291511652025e-5, 4.5091001135751865e-5, 4.0390412404239574e-5, 2.4239335136369336e-5, 2.007229775032873e-5, 4.114946546836768e-5, 4.490654068721629e-5  …  -0.28294928175965245, -0.4709529873531513, -0.3054903984423864, -0.08468247928270123, -0.6360268020253869, -0.7558929761706225, -0.4903960341365838, -0.6037887296462228, -0.6854827104134749, -0.7414334963241199]\n",
       " [0.0002449370788699468, 0.00032574092320253805, 0.0001594890425389481, 0.00031917956951356397, 0.0003529475589873836, 0.00031612959786049213, 0.0001897195838916917, 0.00015709708288020672, 0.00032208639772717814, 0.000351507632663833  …  -0.28514093828954323, -0.473624768845145, -0.3076000943158365, -0.08638522102599538, -0.6390029943665987, -0.7592662123639653, -0.49306189263009687, -0.6068884443650572, -0.6887090596403982, -0.7447284623010302]\n",
       " [0.002376302891266692, 0.003164235130656129, 0.0015481249464685183, 0.0030989495001833138, 0.0034302157007287436, 0.0030702453126483426, 0.0018427153971127142, 0.001525203883133403, 0.00312954068258198, 0.0034166159522206205  …  -0.30571657864508184, -0.4987502650539119, -0.32742655851278535, -0.10234203570837075, -0.6669980917841752, -0.7910192283428222, -0.5181182300391877, -0.6360420580583633, -0.7190572542012705, -0.7757674253040531]\n",
       " [0.009183990537189289, 0.012270086470004698, 0.005991134283783784, 0.012000981315446671, 0.013320006182113625, 0.011901125931962478, 0.0071440517793957764, 0.005906594652193621, 0.0121464877539692, 0.013272347373514721  …  -0.35872133684679397, -0.5638671768115013, -0.3786851924780222, -0.14318388135897486, -0.7396089947578838, -0.8735946199931491, -0.5829294049513555, -0.7116378724772752, -0.7977812414564839, -0.8566853984828482]\n",
       " [0.014653676398247262, 0.019625131508178472, 0.009568095096185612, 0.01917623812248195, 0.021326599707624613, 0.01903114127913426, 0.011425082526571607, 0.009438736524131125, 0.01944195733199147, 0.021257001347963263  …  -0.3889697556407514, -0.6014628298151907, -0.4081339640360091, -0.1661944833335232, -0.7815967291880213, -0.9215904058017887, -0.6202107614961323, -0.7553341683323644, -0.8433212276022336, -0.9039297241021282]\n",
       " [0.02008660521446338, 0.02695682541498416, 0.013125284744589091, 0.026318543284052327, 0.029321233044689282, 0.026138608899933694, 0.015692514486956854, 0.01295591706093098, 0.02672531125390407, 0.029234636916884084  …  -0.41102518486680745, -0.6292099000123308, -0.42975281891074585, -0.18274673599061925, -0.81262740123988, -0.9572529577187773, -0.6476186994506511, -0.7876288178934467, -0.877003324397932, -0.9391808722134072]\n",
       " [0.027190761157177983, 0.036572428921583695, 0.017780488463476015, 0.03567470297265836, 0.039822375959605014, 0.03546268162003325, 0.02129000885071676, 0.017565638494979812, 0.03629299268586171, 0.03972011715901768  …  -0.43151333575797374, -0.6553794037761285, -0.44999236564623846, -0.1978529783110408, -0.8419465735925293, -0.9911838853247038, -0.6733473709090508, -0.8181576668381021, -0.9088761847453942, -0.9728703752895176]\n",
       " [0.03594639294200433, 0.048455984628510154, 0.02352089387138098, 0.04722532078715251, 0.05281980622198742, 0.046991205310737534, 0.028209069882971696, 0.023260067237056033, 0.04813813170551188, 0.05270685858509615  …  -0.44776499456236546, -0.6766400405026001, -0.4662183387058637, -0.20948007273258568, -0.8658528488236829, -1.0191665190778556, -0.6941105704600855, -0.8430799021658665, -0.934947969195562, -1.0008138285217152]\n",
       " [0.04551150389503095, 0.06146753583365523, 0.029793119548351343, 0.05986181894512189, 0.06706912126604939, 0.059620609431562596, 0.0357862756936144, 0.02949351498046279, 0.061128686905705755, 0.06695295545642925  …  -0.4580480579608534, -0.6906403046697802, -0.47663391898073193, -0.21643147376870359, -0.8817229869377025, -1.0381058064911437, -0.7076549648676475, -0.8596621331242909, -0.9523695366035297, -1.0198625688635656]\n",
       " [0.05647027750978707, 0.07639996744709557, 0.03697809245522786, 0.07435567008289062, 0.08343763941752476, 0.07412127324118653, 0.04448296761168327, 0.03664639675193205, 0.07605634721442245, 0.0833251819975195  …  -0.46418200518561925, -0.699594975561856, -0.48296026139372217, -0.22010614441308812, -0.892062938480958, -1.0508631201974354, -0.7162115884535122, -0.8705073084876555, -0.963870082585243, -1.0327942184792656]\n",
       " ⋮\n",
       " [-1.3851010471786165, -1.8952318443359322, -0.9009634583952006, -1.8390719812838687, -2.07952814761309, -1.8389784963379057, -1.0973320160928415, -0.9008899624956411, -1.8951650382137564, -2.0795044493286765  …  0.7238067358828008, 0.6107550295260578, 0.6979516062751764, 0.7433129306589591, 0.47064405973617135, 0.264844876210024, 0.6118253838669486, 0.48107620456801614, 0.38456531383091014, 0.2886273941079002]\n",
       " [-1.2798618389967062, -1.7512006447692656, -0.8325495141821225, -1.6993175272448973, -1.921480087307302, -1.699229993839157, -1.0139711880906923, -0.832465063666941, -1.7511323291541654, -1.9214581669776485  …  0.7464663565591092, 0.6459711978210314, 0.7239065885851111, 0.7559224991283677, 0.5133134954358561, 0.3140461198109846, 0.6463790793019606, 0.5239495506900292, 0.43100926611936813, 0.3366963631740381]\n",
       " [-1.1431808611019012, -1.5641311853326982, -0.7436153234850348, -1.5178180385170565, -1.7161957585663872, -1.5177366687676557, -0.9056307653887556, -0.743520133787758, -1.5640615268423976, -1.7161756679781657  …  0.7670290830480684, 0.6794975726953376, 0.7477746956004525, 0.7663816691871608, 0.5549272724286757, 0.3627352227509903, 0.6793152069833899, 0.5655105514426991, 0.4764460432127071, 0.3841808312037099]\n",
       " [-0.9873506407844764, -1.350863632043792, -0.6422058922667903, -1.3108973139900209, -1.4821688195032123, -1.3108219770286844, -0.7821031216805848, -0.6421007255194143, -1.3507928542697551, -1.4821505097651506  …  0.7850816144118833, 0.7100720793587374, 0.769544146025814, 0.7754483713580956, 0.5928399957712983, 0.4072732735731181, 0.7090095216440991, 0.60365481203367, 0.5181547667401392, 0.42745745053259276]\n",
       " [-0.8293773896551591, -1.134668287415891, -0.5393683953451721, -1.1011436597102437, -1.2449376510900252, -1.1010738571191636, -0.6568457354464091, -0.5392545094705177, -1.1345966427499024, -1.2449209675802797  …  0.7997577489548259, 0.7361157038042504, 0.7877571363711809, 0.7823456648314102, 0.6255621459764807, 0.44608560236282524, 0.7342004083090364, 0.6365990215619404, 0.5543797378957535, 0.465054441691506]\n",
       " [-0.6567444977899838, -0.8984093362899843, -0.4269884493936233, -0.8719227159521826, -0.9856852835116803, -0.8718585722680058, -0.5199670339468802, -0.426866048408629, -0.8983369528023358, -0.9856702559245332  …  0.8129558409928853, 0.7608509624470045, 0.804570138054052, 0.7878703151798723, 0.6571998599449669, 0.48407962333252746, 0.7580713292294897, 0.6683986917591199, 0.5895929173860415, 0.5017814373696687]\n",
       " [-0.5114212301426835, -0.6995315633014856, -0.33234632323344443, -0.6789795792539961, -0.7674671705671875, -0.6789200030306832, -0.40470269268123454, -0.3322173303206549, -0.6994586874009225, -0.7674534748556292  …  0.8225585475068052, 0.779632212688604, 0.8173273543949633, 0.791750551199628, 0.6812527921038405, 0.5131119642455196, 0.776021310634731, 0.6927467020724534, 0.6165969146858857, 0.5297393472907505]\n",
       " [-0.36045570859911696, -0.49292514758602723, -0.23401848623349078, -0.47854087076205426, -0.5407596255657389, -0.4784859287641087, -0.2849522854873101, -0.23388304716084074, -0.4928518612334284, -0.5407472769933858  …  0.8309852936209228, 0.7973587101963777, 0.8286693698474272, 0.794228976310567, 0.7047837668913254, 0.542057259218044, 0.7930951042919624, 0.7163124892952849, 0.6430791230473123, 0.5576069658623997]\n",
       " [-0.23684884642832155, -0.3237655701272662, -0.15349956358026903, -0.3144320549859144, -0.3551495827343187, -0.3143808600462168, -0.18689439214115977, -0.15335908453348027, -0.32369201544807563, -0.35513832048821975  …  0.8372599321473396, 0.8110487852990542, 0.8375456182085873, 0.796080490319401, 0.722794519603429, 0.5642547421292196, 0.806092090880834, 0.734558186781845, 0.6635390320229012, 0.578902465546845]\n",
       " [-0.12441944745374751, -0.1698998006231521, -0.08025408747451679, -0.165162977433317, -0.18631810051599906, -0.16511517813901347, -0.0976957661459433, -0.08010916956241323, -0.16982605014070945, -0.18630782051244346  …  0.8421973680183609, 0.8226968343930734, 0.8446244262175033, 0.7968710516503671, 0.738704146520075, 0.5842150259480986, 0.817266648521565, 0.7504891928241315, 0.6816474074438326, 0.5980504631670562]\n",
       " [-0.03740180579635971, -0.0508126258118089, -0.023559993054482593, -0.04963384815848584, -0.05565011297005642, -0.04958868000050251, -0.028654703179494798, -0.023411717699881332, -0.05073875388453785, -0.055640592666144295  …  0.8457643070975045, 0.8314150090909864, 0.8499564737388691, 0.7973929068289866, 0.7505496496643157, 0.5991188857348072, 0.8255400190291017, 0.7624479713116018, 0.6952256816558892, 0.6123156540396586]\n",
       " [0.000298289332866065, 0.0007798102539372058, 0.0010053635303440287, 0.00041668012754834954, 0.000956691284644324, 0.0004607056160124814, 0.0012597165521486234, 0.0011550749170423174, 0.0008537267530314963, 0.0009658820235420052  …  0.8472807346968533, 0.835144701945017, 0.8523106164809755, 0.7976808285397272, 0.755527981228363, 0.6053609120008766, 0.829029729274682, 0.7675380253519228, 0.7009749166572296, 0.6182719179759366]"
      ]
     },
     "execution_count": 5,
     "metadata": {},
     "output_type": "execute_result"
    }
   ],
   "source": [
    "\n",
    "u0 = vcat(u_true(0),p_true(0))\n",
    "display(u0)\n",
    "t_interval = (0.0,2)\n",
    "function stokes(du, u, p, t)\n",
    "    A,B,g,f = p\n",
    "    du .= A * u .+ B * g(t) .+ f(t)\n",
    "    nothing\n",
    "end\n",
    "func = ODEFunction(stokes, mass_matrix = E)\n",
    "prob = ODEProblem(func, u0, t_interval, [A,B,g,f])\n",
    "sol = solve(prob, ABDF2())\n"
   ]
  },
  {
   "cell_type": "code",
   "execution_count": 6,
   "metadata": {},
   "outputs": [
    {
     "data": {
      "text/plain": [
       "0.01771524280805803"
      ]
     },
     "execution_count": 6,
     "metadata": {},
     "output_type": "execute_result"
    }
   ],
   "source": [
    "maximum(sol(1.5)[1:2*N_i] .- u_true(1.5))\n",
    "#maximum(abs.(vcat(sol_true.(0:0.01:0.5)...) - vcat(sol(0:0.01:0.5)...)))"
   ]
  },
  {
   "cell_type": "code",
   "execution_count": 7,
   "metadata": {},
   "outputs": [
    {
     "ename": "LoadError",
     "evalue": "syntax: invalid escape sequence",
     "output_type": "error",
     "traceback": [
      "syntax: invalid escape sequence",
      "",
      "Stacktrace:",
      " [1] top-level scope",
      "   @ In[7]:30"
     ]
    }
   ],
   "source": [
    "\"\"\"\n",
    "# test the code on interpolation\n",
    "M = construct_kernel_array(Φ_div,[λ₁,λ₂,λ₃],[λ₁,λ₂,λ₃])\n",
    "O = compile_kernel_array(M)\n",
    "int_points = hcat(generate_2D_equally_spaced_points(10)...)\n",
    "tst_points, _ =  generate_2D_equally_spaced_points(20)\n",
    "u₁_int = generate_vector_function(true_u₁,int_points)(1.3)\n",
    "u₂_int = generate_vector_function(true_u₂,int_points)(1.3)\n",
    "p_int = generate_vector_function(true_p,int_points)(1.3)\n",
    "\n",
    "u₁_tst = generate_vector_function(true_u₁,tst_points)(1.3)\n",
    "u₂_tst = generate_vector_function(true_u₂,tst_points)(1.3)\n",
    "p_tst = generate_vector_function(true_p,tst_points)(1.3)\n",
    "\n",
    "\n",
    "A_int = crete_block_point_tensors([int_points,int_points,int_points],[int_points,int_points,int_points])\n",
    "A_tst = crete_block_point_tensors([tst_points,tst_points,tst_points],[int_points,int_points,int_points])\n",
    "P_int = generate_block_matrices(O,A_int,2)\n",
    "P_tst = generate_block_matrices(O,A_tst,2)\n",
    "FF_int = flatten(P_int)\n",
    "FF_tst = flatten(P_tst)\n",
    "\n",
    "println(\"cond_number:\", cond(FF_int))\n",
    "\n",
    "reconstructed = FF_tst* (FF_int\\ vcat(u₁_int,u₂_int,p_int))\n",
    "error = reconstructed - vcat(u₁_tst,u₂_tst,p_tst)\n",
    "fig, ax, hm = heatmap(tst_points[1,:],tst_points[2,:],error[324*2+1:324*3],aspect_ratio=:equal,colorbar=true)\n",
    "Colorbar(fig[:, end+1], hm)\n",
    "fig\n",
    "\"\"\""
   ]
  }
 ],
 "metadata": {
  "kernelspec": {
   "display_name": "Julia 1.7.1",
   "language": "julia",
   "name": "julia-1.7"
  },
  "language_info": {
   "file_extension": ".jl",
   "mimetype": "application/julia",
   "name": "julia",
   "version": "1.7.1"
  },
  "orig_nbformat": 4
 },
 "nbformat": 4,
 "nbformat_minor": 2
}
