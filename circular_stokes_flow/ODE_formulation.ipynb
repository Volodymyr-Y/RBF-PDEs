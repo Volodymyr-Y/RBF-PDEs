{
 "cells": [
  {
   "attachments": {},
   "cell_type": "markdown",
   "metadata": {},
   "source": [
    "Calculate functionals with symbolics \n",
    "create kernel \n",
    "\n",
    "Create points \n",
    "\n",
    "construnct distance tnsors \n",
    "\n",
    "\n",
    "apply kernel to a distance tensor \n",
    "\n",
    "assemble RHS and matrices \n",
    "\n",
    "Assemble DAE \n",
    "\n",
    "Solve with diffeq.jl or custom code \n",
    "\n",
    "\n",
    "\n"
   ]
  },
  {
   "cell_type": "code",
   "execution_count": 1,
   "metadata": {},
   "outputs": [],
   "source": [
    "using Revise\n",
    "using CairoMakie\n",
    "using Symbolics\n",
    "using Latexify\n",
    "using DifferentialEquations\n",
    "using Sundials\n",
    "cd(\"..\")\n",
    "include(\"RBFunctions.jl\")\n",
    "cd(\"circular_stokes_flow\")"
   ]
  },
  {
   "cell_type": "code",
   "execution_count": 27,
   "metadata": {},
   "outputs": [
    {
     "data": {
      "text/plain": [
       "flatten (generic function with 1 method)"
      ]
     },
     "execution_count": 27,
     "metadata": {},
     "output_type": "execute_result"
    }
   ],
   "source": [
    "@variables ϵ r x₁ x₂ t;\n",
    "const nu = 1.0\n",
    "#ϕ = 1//945 * ((ϵ*r)^5 +15*(ϵ*r)^3 + 105*(ϵ*r)^2 + 945*(ϵ*r)+ 945)* exp(-ϵ*r)\n",
    "ϕ = exp(-r^2*ϵ^2)\n",
    "ϕ = substitute(ϕ, r=>sqrt(x₁^2 + x₂^2)) \n",
    "#display(ϕ)  \n",
    "Δ(exprs) = expand_derivatives((Differential(x₁)^2)(exprs) + (Differential(x₂)^2)(exprs))\n",
    "∂₁(exprs) = expand_derivatives(Differential(x₁)(exprs))\n",
    "∂₂(exprs) = expand_derivatives(Differential(x₂)(exprs))\n",
    "∂ₜ(exprs) = expand_derivatives(Differential(t)(exprs))\n",
    "\n",
    "Φ_div = ([-∂₂(∂₂(ϕ)) ∂₁(∂₂(ϕ)) 0.0 ; ∂₁(∂₂(ϕ)) -∂₁(∂₁(ϕ)) 0.0; 0.0 0.0 ϕ])\n",
    "ΔΦ_div= Δ.([-∂₂(∂₂(ϕ)) ∂₁(∂₂(ϕ)); ∂₁(∂₂(ϕ)) -∂₁(∂₁(ϕ))])\n",
    "Φ_curl = ([-∂₁(∂₁(ϕ)) -∂₁(∂₂(ϕ)); -∂₁(∂₂(ϕ)) -∂₂(∂₂(ϕ))])\n",
    "Φ = [ϕ 0.0 0.0; 0.0 ϕ 0.0;0.0 0.0 ϕ]\n",
    "#ΔΦ = [Δ(ϕ) 0 ; 0 Δ(ϕ)]\n",
    "true_u₁ = -x₂*π*sin(π*0.5*(x₁*x₁ + x₂*x₂))*sin(π*t)\n",
    "true_u₂ =  x₁*π*sin(π*0.5*(x₁*x₁ + x₂*x₂))*sin(π*t)\n",
    "true_∂ₜu₁ = ∂ₜ(true_u₁)\n",
    "true_∂ₜu₂  = ∂ₜ(true_u₂)\n",
    "true_p = sin(x₁-x₂+t)\n",
    "true_∂₁p = ∂₁(true_p)\n",
    "true_∂₂p = ∂₂(true_p)\n",
    "f₁ = ∂ₜ(true_u₁) - nu*Δ(true_u₁) + true_∂₁p\n",
    "f₂ = ∂ₜ(true_u₂) - nu*Δ(true_u₂) + true_∂₂p\n",
    "\n",
    "\n",
    "true_u₁ = eval(build_function(true_u₁,x₁, x₂, t))\n",
    "true_u₂ = eval(build_function(true_u₂,x₁, x₂, t))\n",
    "true_p = eval(build_function(true_p,x₁, x₂, t))\n",
    "true_∂₁p = eval(build_function(true_∂₁p,x₁, x₂, t))\n",
    "true_∂₂p = eval(build_function(true_∂₂p,x₁, x₂, t))\n",
    "f₁ = eval(build_function(f₁,x₁, x₂, t))\n",
    "f₂ = eval(build_function(f₂,x₁, x₂, t))\n",
    "∂ₜu₁ = eval(build_function(true_∂ₜu₁,x₁, x₂, t))\n",
    "∂ₜu₂  = eval(build_function(true_∂ₜu₂,x₁, x₂, t))\n",
    "zero_func(x₁,x₂,t) = 0.0\n",
    "#display(Φ)\n",
    "#display(Φ[1,:])\n",
    "λ₁(x) = x[1]\n",
    "λ₂(x) = x[2]\n",
    "λ₃(x) = x[3]\n",
    "λ₄(x) = x[1]\n",
    "λ₅(x) = x[2]\n",
    "\n",
    "λ∂ₜu₁(x) = Δ(x[1]) - ∂₁(x[3]) \n",
    "λ∂ₜu₂(x) = Δ(x[2]) - ∂₂(x[3]) \n",
    "λ∇u(x) = ∂₁(x[1]) + ∂₂(x[2]) \n",
    "λ∂₁p(x)  = ∂₁(x[3])\n",
    "λ∂₂p(x)  = ∂₂(x[3])\n",
    "\n",
    "function construct_kernel_array(matrix_kernel,functionals1,functionals2)\n",
    "    N1 = length(functionals1)\n",
    "    N2 = length(functionals2)\n",
    "    M = Matrix{typeof(matrix_kernel[1,1])}(undef,N1,N2)\n",
    "    for j = 1:N2\n",
    "        λⱼ = functionals2[j]\n",
    "        v = [λⱼ(matrix_kernel[1,:]),λⱼ(matrix_kernel[2,:]),λⱼ(matrix_kernel[3,:])]\n",
    "        for i = 1:N1\n",
    "            λᵢ = functionals1[i]\n",
    "            M[i,j] = λᵢ(v)\n",
    "        end\n",
    "    end\n",
    "    return M \n",
    "end\n",
    "\n",
    "function compile_kernel_array(M)\n",
    "    N1 = size(M)[1]\n",
    "    N2 = size(M)[2]\n",
    "    P = Matrix{Function}(undef,N1,N2)\n",
    "    for i = 1:N1\n",
    "        for j = 1:N2\n",
    "            #display(M[i,j])\n",
    "            P[i,j] = eval(build_function(M[i,j], [x₁, x₂], ϵ))\n",
    "        end\n",
    "    end\n",
    "    return P\n",
    "end\n",
    "\n",
    "function crete_block_point_tensors(p_list1,p_list2)\n",
    "    N1 = length(p_list1)\n",
    "    N2 = length(p_list2)\n",
    "    M = Matrix{Array{Float64, 3}}(undef,N1,N2)\n",
    "    for i in 1:N1\n",
    "        for j in 1:N2\n",
    "            M[i,j] = point_difference_tensor(p_list1[i],p_list2[j])\n",
    "        end\n",
    "    end\n",
    "\n",
    "    return M\n",
    "end\n",
    "#point_difference_tensor(Internal_points,Internal_points)\n",
    "function generate_block_matrices(function_array,tensor_array,param)\n",
    "    n1,n2 = size(tensor_array)\n",
    "    if size(tensor_array) != size(function_array)\n",
    "        return ArgumentError(\"function array and tensor array size mismatch\")\n",
    "    end\n",
    "    M = Matrix{Matrix}(undef,n1,n2)\n",
    "    for i in 1:n1\n",
    "        for j in 1:n2\n",
    "            #display(function_array[i,j])\n",
    "            #display(tensor_array[i,j])\n",
    "            M[i,j] = apply(function_array[i,j], tensor_array[i,j], param)\n",
    "        end\n",
    "    end\n",
    "    return M\n",
    "end\n",
    "function flatten(block_matrix)\n",
    "    # flattens block matrices into usual matrices \n",
    "    n1,n2 = size(block_matrix)\n",
    "    res = hcat(block_matrix[1,:]...)\n",
    "    #println(size(res))\n",
    "    for i in 2:n1\n",
    "        row  = hcat(block_matrix[i,:]...)\n",
    "        res = vcat(res,row)\n",
    "        #println(size(row))\n",
    "    end\n",
    "    return res\n",
    "end\n"
   ]
  },
  {
   "cell_type": "code",
   "execution_count": 3,
   "metadata": {},
   "outputs": [
    {
     "name": "stdout",
     "output_type": "stream",
     "text": [
      "total number of nodes: 161\n",
      "number og internal_nodes: 118\n"
     ]
    }
   ],
   "source": [
    "#generate points for circular flow benchmark \n",
    "using DistMesh2D\n",
    "fdistance(p) = sqrt(sum(p .^ 2)) - 1\n",
    "fedgelength(p) = 1/(sqrt(sum(p .^ 2))+1)\n",
    "boundingbox = [-1.1 -1.1; 1.1 1.1]\n",
    "initdistance = 0.15\n",
    "x, y = distmesh2d(fdistance, fedgelength, boundingbox, initdistance)\n",
    "\n",
    "# generate points, reference solution, forcing vector, and boundary conditions \n",
    "tx = unique(filter(e -> !isequal(e,NaN) ,x))\n",
    "ty = unique(filter(e -> !isequal(e,NaN) ,y))\n",
    "\n",
    "points = hcat(tx,ty)'\n",
    "\n",
    "Internal_points = []\n",
    "Boundary_points = []\n",
    "suma = 0\n",
    "for i in 1:length(tx)\n",
    "    if abs(sum(points[:,i] .^2) - 1) < 1e-8\n",
    "        #println(i)\n",
    "        suma +=1\n",
    "        append!(Boundary_points,[points[:,i]])\n",
    "    else\n",
    "        append!(Internal_points,[points[:,i]])\n",
    "    end\n",
    "    \n",
    "end\n",
    "\n",
    "Internal_points = hcat(Internal_points...)\n",
    "Boundary_points = hcat(Boundary_points...)\n",
    "All_points = hcat(Internal_points,Boundary_points)\n",
    "N_i = size(Internal_points)[2]\n",
    "N_b = size(Boundary_points)[2]\n",
    "N = N_i + N_b\n",
    "println(\"total number of nodes: \",N)\n",
    "println(\"number og internal_nodes: \",N_i)"
   ]
  },
  {
   "cell_type": "code",
   "execution_count": 28,
   "metadata": {},
   "outputs": [
    {
     "data": {
      "text/latex": [
       "\\begin{equation}\n",
       "\\left[\n",
       "\\begin{array}{cccc}\n",
       " - 16 \\epsilon^{4} e^{ - \\left( \\sqrt{x_1^{2} + x_2^{2}} \\right)^{2} \\epsilon^{2}} + 8 \\epsilon^{6} x_1^{2} e^{ - \\left( \\sqrt{x_1^{2} + x_2^{2}} \\right)^{2} \\epsilon^{2}} + 56 \\epsilon^{6} x_2^{2} e^{ - \\left( \\sqrt{x_1^{2} + x_2^{2}} \\right)^{2} \\epsilon^{2}} - 16 \\epsilon^{8} x_2^{4} e^{ - \\left( \\sqrt{x_1^{2} + x_2^{2}} \\right)^{2} \\epsilon^{2}} - 16 \\epsilon^{8} x_2^{2} x_1^{2} e^{ - \\left( \\sqrt{x_1^{2} + x_2^{2}} \\right)^{2} \\epsilon^{2}} & 16 \\epsilon^{8} x_2^{3} x_1 e^{ - \\left( \\sqrt{x_1^{2} + x_2^{2}} \\right)^{2} \\epsilon^{2}} + 16 \\epsilon^{8} x_1^{3} x_2 e^{ - \\left( \\sqrt{x_1^{2} + x_2^{2}} \\right)^{2} \\epsilon^{2}} - 48 \\epsilon^{6} x_1 x_2 e^{ - \\left( \\sqrt{x_1^{2} + x_2^{2}} \\right)^{2} \\epsilon^{2}} &  - 16 \\epsilon^{4} e^{ - \\left( \\sqrt{x_1^{2} + x_2^{2}} \\right)^{2} \\epsilon^{2}} + 8 \\epsilon^{6} x_1^{2} e^{ - \\left( \\sqrt{x_1^{2} + x_2^{2}} \\right)^{2} \\epsilon^{2}} + 56 \\epsilon^{6} x_2^{2} e^{ - \\left( \\sqrt{x_1^{2} + x_2^{2}} \\right)^{2} \\epsilon^{2}} - 16 \\epsilon^{8} x_2^{4} e^{ - \\left( \\sqrt{x_1^{2} + x_2^{2}} \\right)^{2} \\epsilon^{2}} - 16 \\epsilon^{8} x_2^{2} x_1^{2} e^{ - \\left( \\sqrt{x_1^{2} + x_2^{2}} \\right)^{2} \\epsilon^{2}} & 16 \\epsilon^{8} x_2^{3} x_1 e^{ - \\left( \\sqrt{x_1^{2} + x_2^{2}} \\right)^{2} \\epsilon^{2}} + 16 \\epsilon^{8} x_1^{3} x_2 e^{ - \\left( \\sqrt{x_1^{2} + x_2^{2}} \\right)^{2} \\epsilon^{2}} - 48 \\epsilon^{6} x_1 x_2 e^{ - \\left( \\sqrt{x_1^{2} + x_2^{2}} \\right)^{2} \\epsilon^{2}} \\\\\n",
       "16 \\epsilon^{8} x_2^{3} x_1 e^{ - \\left( \\sqrt{x_1^{2} + x_2^{2}} \\right)^{2} \\epsilon^{2}} + 16 \\epsilon^{8} x_1^{3} x_2 e^{ - \\left( \\sqrt{x_1^{2} + x_2^{2}} \\right)^{2} \\epsilon^{2}} - 48 \\epsilon^{6} x_1 x_2 e^{ - \\left( \\sqrt{x_1^{2} + x_2^{2}} \\right)^{2} \\epsilon^{2}} &  - 16 \\epsilon^{4} e^{ - \\left( \\sqrt{x_1^{2} + x_2^{2}} \\right)^{2} \\epsilon^{2}} - 16 \\epsilon^{8} x_1^{4} e^{ - \\left( \\sqrt{x_1^{2} + x_2^{2}} \\right)^{2} \\epsilon^{2}} + 8 \\epsilon^{6} x_2^{2} e^{ - \\left( \\sqrt{x_1^{2} + x_2^{2}} \\right)^{2} \\epsilon^{2}} + 56 \\epsilon^{6} x_1^{2} e^{ - \\left( \\sqrt{x_1^{2} + x_2^{2}} \\right)^{2} \\epsilon^{2}} - 16 \\epsilon^{8} x_2^{2} x_1^{2} e^{ - \\left( \\sqrt{x_1^{2} + x_2^{2}} \\right)^{2} \\epsilon^{2}} & 16 \\epsilon^{8} x_2^{3} x_1 e^{ - \\left( \\sqrt{x_1^{2} + x_2^{2}} \\right)^{2} \\epsilon^{2}} + 16 \\epsilon^{8} x_1^{3} x_2 e^{ - \\left( \\sqrt{x_1^{2} + x_2^{2}} \\right)^{2} \\epsilon^{2}} - 48 \\epsilon^{6} x_1 x_2 e^{ - \\left( \\sqrt{x_1^{2} + x_2^{2}} \\right)^{2} \\epsilon^{2}} &  - 16 \\epsilon^{4} e^{ - \\left( \\sqrt{x_1^{2} + x_2^{2}} \\right)^{2} \\epsilon^{2}} - 16 \\epsilon^{8} x_1^{4} e^{ - \\left( \\sqrt{x_1^{2} + x_2^{2}} \\right)^{2} \\epsilon^{2}} + 8 \\epsilon^{6} x_2^{2} e^{ - \\left( \\sqrt{x_1^{2} + x_2^{2}} \\right)^{2} \\epsilon^{2}} + 56 \\epsilon^{6} x_1^{2} e^{ - \\left( \\sqrt{x_1^{2} + x_2^{2}} \\right)^{2} \\epsilon^{2}} - 16 \\epsilon^{8} x_2^{2} x_1^{2} e^{ - \\left( \\sqrt{x_1^{2} + x_2^{2}} \\right)^{2} \\epsilon^{2}} \\\\\n",
       "\\end{array}\n",
       "\\right]\n",
       "\\end{equation}\n"
      ],
      "text/plain": [
       "2×4 Matrix{Num}:\n",
       "     (8//1)*(x₁^2)*(ϵ^6)*exp(-(ϵ^2)*(sqrt(x₁^2 + x₂^2)^2)) + (56//1)*(x₂^2)*(ϵ^6)*exp(-(ϵ^2)*(sqrt(x₁^2 + x₂^2)^2)) - (16//1)*(ϵ^4)*exp(-(ϵ^2)*(sqrt(x₁^2 + x₂^2)^2)) - (16//1)*(x₂^4)*(ϵ^8)*exp(-(ϵ^2)*(sqrt(x₁^2 + x₂^2)^2)) - (16//1)*(x₁^2)*(x₂^2)*(ϵ^8)*exp(-(ϵ^2)*(sqrt(x₁^2 + x₂^2)^2))  …  (16//1)*x₁*(x₂^3)*(ϵ^8)*exp(-(ϵ^2)*(sqrt(x₁^2 + x₂^2)^2)) + (16//1)*x₂*(x₁^3)*(ϵ^8)*exp(-(ϵ^2)*(sqrt(x₁^2 + x₂^2)^2)) - (48//1)*x₁*x₂*(ϵ^6)*exp(-(ϵ^2)*(sqrt(x₁^2 + x₂^2)^2))\n",
       " (16//1)*x₁*(x₂^3)*(ϵ^8)*exp(-(ϵ^2)*(sqrt(x₁^2 + x₂^2)^2)) + (16//1)*x₂*(x₁^3)*(ϵ^8)*exp(-(ϵ^2)*(sqrt(x₁^2 + x₂^2)^2)) - (48//1)*x₁*x₂*(ϵ^6)*exp(-(ϵ^2)*(sqrt(x₁^2 + x₂^2)^2))                                                                                                                         (8//1)*(x₂^2)*(ϵ^6)*exp(-(ϵ^2)*(sqrt(x₁^2 + x₂^2)^2)) + (56//1)*(x₁^2)*(ϵ^6)*exp(-(ϵ^2)*(sqrt(x₁^2 + x₂^2)^2)) - (16//1)*(ϵ^4)*exp(-(ϵ^2)*(sqrt(x₁^2 + x₂^2)^2)) - (16//1)*(x₁^4)*(ϵ^8)*exp(-(ϵ^2)*(sqrt(x₁^2 + x₂^2)^2)) - (16//1)*(x₁^2)*(x₂^2)*(ϵ^8)*exp(-(ϵ^2)*(sqrt(x₁^2 + x₂^2)^2))"
      ]
     },
     "metadata": {},
     "output_type": "display_data"
    },
    {
     "data": {
      "text/latex": [
       "\\begin{equation}\n",
       "\\left[\n",
       "\\begin{array}{cccc}\n",
       "2 \\epsilon^{2} e^{ - \\left( \\sqrt{x_1^{2} + x_2^{2}} \\right)^{2} \\epsilon^{2}} - 4 \\epsilon^{4} x_2^{2} e^{ - \\left( \\sqrt{x_1^{2} + x_2^{2}} \\right)^{2} \\epsilon^{2}} & 4 \\epsilon^{4} x_1 x_2 e^{ - \\left( \\sqrt{x_1^{2} + x_2^{2}} \\right)^{2} \\epsilon^{2}} & 2 \\epsilon^{2} e^{ - \\left( \\sqrt{x_1^{2} + x_2^{2}} \\right)^{2} \\epsilon^{2}} - 4 \\epsilon^{4} x_2^{2} e^{ - \\left( \\sqrt{x_1^{2} + x_2^{2}} \\right)^{2} \\epsilon^{2}} & 4 \\epsilon^{4} x_1 x_2 e^{ - \\left( \\sqrt{x_1^{2} + x_2^{2}} \\right)^{2} \\epsilon^{2}} \\\\\n",
       "4 \\epsilon^{4} x_1 x_2 e^{ - \\left( \\sqrt{x_1^{2} + x_2^{2}} \\right)^{2} \\epsilon^{2}} & 2 \\epsilon^{2} e^{ - \\left( \\sqrt{x_1^{2} + x_2^{2}} \\right)^{2} \\epsilon^{2}} - 4 \\epsilon^{4} x_1^{2} e^{ - \\left( \\sqrt{x_1^{2} + x_2^{2}} \\right)^{2} \\epsilon^{2}} & 4 \\epsilon^{4} x_1 x_2 e^{ - \\left( \\sqrt{x_1^{2} + x_2^{2}} \\right)^{2} \\epsilon^{2}} & 2 \\epsilon^{2} e^{ - \\left( \\sqrt{x_1^{2} + x_2^{2}} \\right)^{2} \\epsilon^{2}} - 4 \\epsilon^{4} x_1^{2} e^{ - \\left( \\sqrt{x_1^{2} + x_2^{2}} \\right)^{2} \\epsilon^{2}} \\\\\n",
       "2 \\epsilon^{2} e^{ - \\left( \\sqrt{x_1^{2} + x_2^{2}} \\right)^{2} \\epsilon^{2}} - 4 \\epsilon^{4} x_2^{2} e^{ - \\left( \\sqrt{x_1^{2} + x_2^{2}} \\right)^{2} \\epsilon^{2}} & 4 \\epsilon^{4} x_1 x_2 e^{ - \\left( \\sqrt{x_1^{2} + x_2^{2}} \\right)^{2} \\epsilon^{2}} & 2 \\epsilon^{2} e^{ - \\left( \\sqrt{x_1^{2} + x_2^{2}} \\right)^{2} \\epsilon^{2}} - 4 \\epsilon^{4} x_2^{2} e^{ - \\left( \\sqrt{x_1^{2} + x_2^{2}} \\right)^{2} \\epsilon^{2}} & 4 \\epsilon^{4} x_1 x_2 e^{ - \\left( \\sqrt{x_1^{2} + x_2^{2}} \\right)^{2} \\epsilon^{2}} \\\\\n",
       "4 \\epsilon^{4} x_1 x_2 e^{ - \\left( \\sqrt{x_1^{2} + x_2^{2}} \\right)^{2} \\epsilon^{2}} & 2 \\epsilon^{2} e^{ - \\left( \\sqrt{x_1^{2} + x_2^{2}} \\right)^{2} \\epsilon^{2}} - 4 \\epsilon^{4} x_1^{2} e^{ - \\left( \\sqrt{x_1^{2} + x_2^{2}} \\right)^{2} \\epsilon^{2}} & 4 \\epsilon^{4} x_1 x_2 e^{ - \\left( \\sqrt{x_1^{2} + x_2^{2}} \\right)^{2} \\epsilon^{2}} & 2 \\epsilon^{2} e^{ - \\left( \\sqrt{x_1^{2} + x_2^{2}} \\right)^{2} \\epsilon^{2}} - 4 \\epsilon^{4} x_1^{2} e^{ - \\left( \\sqrt{x_1^{2} + x_2^{2}} \\right)^{2} \\epsilon^{2}} \\\\\n",
       "\\end{array}\n",
       "\\right]\n",
       "\\end{equation}\n"
      ],
      "text/plain": [
       "4×4 Matrix{Num}:\n",
       "       (2//1)*(ϵ^2)*exp(-(ϵ^2)*(sqrt(x₁^2 + x₂^2)^2)) - (4//1)*(x₂^2)*(ϵ^4)*exp(-(ϵ^2)*(sqrt(x₁^2 + x₂^2)^2))  …  (4//1)*x₁*x₂*(ϵ^4)*exp(-(ϵ^2)*(sqrt(x₁^2 + x₂^2)^2))\n",
       " (4//1)*x₁*x₂*(ϵ^4)*exp(-(ϵ^2)*(sqrt(x₁^2 + x₂^2)^2))                                                                   (2//1)*(ϵ^2)*exp(-(ϵ^2)*(sqrt(x₁^2 + x₂^2)^2)) - (4//1)*(x₁^2)*(ϵ^4)*exp(-(ϵ^2)*(sqrt(x₁^2 + x₂^2)^2))\n",
       "       (2//1)*(ϵ^2)*exp(-(ϵ^2)*(sqrt(x₁^2 + x₂^2)^2)) - (4//1)*(x₂^2)*(ϵ^4)*exp(-(ϵ^2)*(sqrt(x₁^2 + x₂^2)^2))     (4//1)*x₁*x₂*(ϵ^4)*exp(-(ϵ^2)*(sqrt(x₁^2 + x₂^2)^2))\n",
       " (4//1)*x₁*x₂*(ϵ^4)*exp(-(ϵ^2)*(sqrt(x₁^2 + x₂^2)^2))                                                                   (2//1)*(ϵ^2)*exp(-(ϵ^2)*(sqrt(x₁^2 + x₂^2)^2)) - (4//1)*(x₁^2)*(ϵ^4)*exp(-(ϵ^2)*(sqrt(x₁^2 + x₂^2)^2))"
      ]
     },
     "metadata": {},
     "output_type": "display_data"
    },
    {
     "data": {
      "text/latex": [
       "\\begin{equation}\n",
       "\\left[\n",
       "\\begin{array}{cccc}\n",
       "0 & 0 & 0 & 0 \\\\\n",
       "0 & 0 & 0 & 0 \\\\\n",
       "\\end{array}\n",
       "\\right]\n",
       "\\end{equation}\n"
      ],
      "text/plain": [
       "2×4 Matrix{Num}:\n",
       " 0  0  0  0\n",
       " 0  0  0  0"
      ]
     },
     "metadata": {},
     "output_type": "display_data"
    },
    {
     "name": "stdout",
     "output_type": "stream",
     "text": [
      "cond K: 1.0969422108316756e11\n",
      "condition A: 11472.320240326202\n",
      "max eigenval: -14.696323433807015\n"
     ]
    },
    {
     "data": {
      "text/plain": [
       "2.3879317241681873e-8"
      ]
     },
     "execution_count": 28,
     "metadata": {},
     "output_type": "execute_result"
    }
   ],
   "source": [
    "Interpolating_kernel_array = construct_kernel_array(Φ_div,[λ₁,λ₂,λ₄,λ₅],[λ₁,λ₂,λ₄,λ₅])\n",
    "ODE_kernel_array = construct_kernel_array(Φ_div,[λ∂ₜu₁,λ∂ₜu₂],[λ₁,λ₂,λ₄,λ₅])\n",
    "pressure_gradient_recovery_kernel_array = construct_kernel_array(Φ_div,[λ∂₁p,λ∂₂p],[λ₁,λ₂,λ₄,λ₅])\n",
    "display(ODE_kernel_array)\n",
    "display(Interpolating_kernel_array)\n",
    "display(pressure_gradient_recovery_kernel_array)\n",
    "ODE_function_array = compile_kernel_array(ODE_kernel_array)\n",
    "Interpolating_function_array = compile_kernel_array(Interpolating_kernel_array)\n",
    "Pressure_recovery_function_array = compile_kernel_array(pressure_gradient_recovery_kernel_array)\n",
    "∇P_ = crete_block_point_tensors([Internal_points,Internal_points],[Internal_points,Internal_points,Boundary_points,Boundary_points])\n",
    "K_ = crete_block_point_tensors([Internal_points,Internal_points,Boundary_points,Boundary_points],\n",
    "[Internal_points,Internal_points,Boundary_points,Boundary_points])\n",
    "S_= crete_block_point_tensors([Internal_points,Internal_points],\n",
    "[Internal_points,Internal_points,Boundary_points,Boundary_points])\n",
    "\n",
    "K = flatten(generate_block_matrices(Interpolating_function_array,K_,3))\n",
    "S = flatten(generate_block_matrices(ODE_function_array,S_,3))\n",
    "∇P = flatten(generate_block_matrices(Pressure_recovery_function_array,∇P_,3))\n",
    "println(\"cond K: \",cond(K))\n",
    "C = S*inv(K)\n",
    "A = C[:,1:2*N_i]\n",
    "B = C[:,2*N_i+1:end]\n",
    "E = zeros((3*N_i,3*N_i))\n",
    "E[1:2*N_i,1:2*N_i] = I(2*N_i)\n",
    "#display(A)\n",
    "#display(B)\n",
    "#display(E)\n",
    "\n",
    "println(\"condition A: \",cond(A))\n",
    "println(\"max eigenval: \",maximum(real.(eigvals(A))))\n",
    "\"\"\"assemble RHS vectors\"\"\"\n",
    "f = generate_vector_function([f₁,f₂],Internal_points)\n",
    "g= generate_vector_function(true_u₁,true_u₂,Boundary_points;Mixed=false)\n",
    "u_true = generate_vector_function(true_u₁,true_u₂,Internal_points;Mixed=false)\n",
    "p_true = generate_vector_function(true_p,Internal_points)\n",
    "∇p_true = generate_vector_function([true_∂₁p,true_∂₂p],Internal_points)\n",
    "sol_true = generate_vector_function([f₁,f₂,true_p],Internal_points)\n",
    "#display(A[2*N_i+1:end,2*N_i+1:end])\n",
    "minimum(abs.(inv(A)))"
   ]
  },
  {
   "cell_type": "code",
   "execution_count": 29,
   "metadata": {},
   "outputs": [
    {
     "data": {
      "text/plain": [
       "236-element Vector{Float64}:\n",
       "  0.0\n",
       "  0.0\n",
       "  0.0\n",
       "  0.0\n",
       "  0.0\n",
       "  0.0\n",
       "  0.0\n",
       "  0.0\n",
       "  0.0\n",
       "  0.0\n",
       "  0.0\n",
       "  0.0\n",
       "  0.0\n",
       "  ⋮\n",
       "  0.0\n",
       " -0.0\n",
       " -0.0\n",
       " -0.0\n",
       " -0.0\n",
       " -0.0\n",
       " -0.0\n",
       " -0.0\n",
       " -0.0\n",
       " -0.0\n",
       " -0.0\n",
       " -0.0"
      ]
     },
     "metadata": {},
     "output_type": "display_data"
    },
    {
     "data": {
      "text/plain": [
       "retcode: Success\n",
       "Interpolation: 3rd order Hermite\n",
       "t: 584-element Vector{Float64}:\n",
       " 0.0\n",
       " 3.413580533446937e-12\n",
       " 4.096296640136325e-12\n",
       " 1.0923457707030199e-11\n",
       " 7.919506837596893e-11\n",
       " 7.619111750653563e-10\n",
       " 7.58907224195923e-9\n",
       " 7.586068291089797e-8\n",
       " 7.585767896002852e-7\n",
       " 3.202291324432388e-6\n",
       " 6.834472259309588e-6\n",
       " 1.6690844988914794e-5\n",
       " 2.4002477387283416e-5\n",
       " ⋮\n",
       " 1.9018007547784037\n",
       " 1.9126779054270944\n",
       " 1.9148533355568325\n",
       " 1.9267317113694675\n",
       " 1.9291073865319945\n",
       " 1.9424837732862597\n",
       " 1.9451590506371126\n",
       " 1.9590247118005992\n",
       " 1.9617978440332966\n",
       " 1.9778944270876044\n",
       " 1.981113743698466\n",
       " 2.0\n",
       "u: 584-element Vector{Vector{Float64}}:\n",
       " [0.0, 0.0, 0.0, 0.0, 0.0, 0.0, 0.0, 0.0, 0.0, 0.0  …  -0.0, -0.0, -0.0, -0.0, -0.0, -0.0, -0.0, -0.0, -0.0, -0.0]\n",
       " [2.5144822478117737e-11, 2.10724736049945e-11, 2.5901664588540344e-11, 1.8787501157996488e-11, 2.956725430395028e-11, 2.2300615562281957e-11, 1.4351379359860758e-11, 1.5500883471576792e-11, 3.002467314961002e-11, 1.7191092960459014e-11  …  -1.013251991026452e-11, -6.984378168733437e-12, -3.6224832139679232e-12, -1.4607510167618e-11, -1.1879603071119e-11, -1.7310781083859656e-11, -6.907038832287136e-12, -6.008849324673926e-12, -3.7415310393084425e-12, -2.187456394285317e-11]\n",
       " [3.0173786972384975e-11, 2.528696832456708e-11, 3.1081997506147397e-11, 2.2545001389165885e-11, 3.5480705163182646e-11, 2.6760738674352987e-11, 1.7221655231870344e-11, 1.8601060165981613e-11, 3.602960777772615e-11, 2.0629311552016947e-11  …  -1.215902389298852e-11, -8.381253802231429e-12, -4.346979856473265e-12, -1.752901220293585e-11, -1.4255523685524832e-11, -2.077293730068259e-11, -8.288446598517338e-12, -7.210619190541639e-12, -4.489837246806366e-12, -2.624947673347232e-11]\n",
       " [8.046343177942623e-11, 6.743191537766084e-11, 8.288532667211621e-11, 6.012000365786973e-11, 9.461521359973787e-11, 7.136196975652682e-11, 4.59244139557095e-11, 4.9602827118975965e-11, 9.607895387829991e-11, 5.5011497414209235e-11  …  -3.242406378733829e-11, -2.2350010112341824e-11, -1.1591946252702366e-11, -4.6744032735539495e-11, -3.801472984778623e-11, -5.539449947401268e-11, -2.210252423809673e-11, -1.9228317942511664e-11, -1.1972899285409e-11, -6.999860484451555e-11]\n",
       " [5.83359866286729e-10, 4.888813716453962e-10, 6.009186173216346e-10, 4.3587002204589724e-10, 6.859602823884414e-10, 5.173742767246228e-10, 3.329520015684317e-10, 3.5962049754353445e-10, 6.965723968252885e-10, 3.988333506974295e-10  …  -2.350744694418113e-10, -1.6203757072649334e-10, -8.40416073325624e-11, -3.388942560040885e-10, -2.7560679329070797e-10, -4.016101217173848e-10, -1.6024329836162918e-10, -1.3940531479149938e-10, -8.680351603377629e-11, -5.074899064401185e-10]\n",
       " [5.612322855049948e-9, 4.703374508003695e-9, 5.781251422799676e-9, 4.193369776025278e-9, 6.5994094125921124e-9, 4.977496961041558e-9, 3.2032279151286533e-9, 3.459797291250933e-9, 6.701505020422293e-9, 3.837051349659684e-9  …  -2.261579197083868e-9, -1.5589129281728597e-9, -8.085379298883684e-10, -3.2603982829396066e-9, -2.651527609750555e-9, -3.863766395158726e-9, -1.541650812371007e-9, -1.3411762162092629e-9, -8.351093197518139e-10, -4.8824049709115605e-9]\n",
       " [5.5901817112861586e-8, 4.684816324086255e-8, 5.758456937570039e-8, 4.1768324325939236e-8, 6.573374494777724e-8, 4.9578685268021235e-8, 3.190599079396301e-8, 3.4461574174820365e-8, 6.675065067111876e-8, 3.8219177952599206e-8  …  -2.2526693583032483e-8, -1.55276416332139e-8, -8.053472331471757e-9, -3.2475617976072355e-8, -2.6410753977262547e-8, -3.8485334230827355e-8, -1.5355703230074487e-8, -1.3358978522312488e-8, -8.318130980637986e-9, -4.863176046551107e-8]\n",
       " [5.587831978691296e-7, 4.6828178867822143e-7, 5.75616738551385e-7, 4.1751357104668313e-7, 6.570615250992352e-7, 4.955867149317387e-7, 3.189339938377357e-7, 3.444802379741131e-7, 6.672240506653396e-7, 3.820351056255331e-7  …  -2.2518454819068315e-7, -1.5521244183363004e-7, -8.049993425456901e-8, -3.246457560599648e-7, -2.640048377943006e-7, -3.847015232062242e-7, -1.534939553724376e-7, -1.3354632991294627e-7, -8.314471022940115e-8, -4.861457987440912e-7]\n",
       " [5.58624198257003e-6, 4.681193034203248e-6, 5.7558372298217705e-6, 4.174536369907241e-6, 6.568783290102458e-6, 4.955281883747611e-6, 3.189251382103627e-6, 3.4447566858834943e-6, 6.6701544121520936e-6, 3.8196608584159475e-6  …  -2.2524339643906137e-6, -1.5518118511107424e-6, -8.046766487005323e-7, -3.2481400276197964e-6, -2.640127540824902e-6, -3.846914967409688e-6, -1.5346494775405662e-6, -1.3363518144750495e-6, -8.310470359131576e-7, -4.863332859992328e-6]\n",
       " [2.3564223977074334e-5, 1.9742687256215592e-5, 2.4296618136226025e-5, 1.7616931175182896e-5, 2.770933624841718e-5, 2.09133934956366e-5, 1.3463743093264228e-5, 1.4543053438494809e-5, 2.8134031366975354e-5, 1.611747971427842e-5  …  -9.51735788277802e-6, -6.547620039704903e-6, -3.3931205698948307e-6, -1.3735412238461049e-5, -1.114754613419698e-5, -1.6240247328927707e-5, -6.475459572091989e-6, -5.65357572347443e-6, -3.5034447211507927e-6, -2.0557186014127387e-5]\n",
       " [5.024748353605906e-5, 4.2089090311380264e-5, 5.185154293977095e-5, 3.758473784718301e-5, 5.908763043408924e-5, 4.462166218885009e-5, 2.8736130661995997e-5, 3.104147182216896e-5, 5.9986017807081084e-5, 3.438114803685238e-5  …  -2.033441293882456e-5, -1.396605666846555e-5, -7.2323453091078045e-6, -2.9373462107451373e-5, -2.3797538965957438e-5, -3.4662485886408705e-5, -1.3812789686855301e-5, -1.2096583931689678e-5, -7.46530554852393e-6, -4.394104041536179e-5]\n",
       " [0.00012237895562219973, 0.0001024374783086028, 0.00012660336343943817, 9.168131039060228e-5, 0.000143919311800676, 0.00010887774066647433, 7.018710825634418e-5, 7.583217655608948e-5, 0.00014605404402128738, 8.383217800743531e-5  …  -4.982665889420655e-5, -3.4045538750245706e-5, -1.759201111865396e-5, -7.217703150781679e-5, -5.816204857967707e-5, -8.466660276085145e-5, -3.367721208630087e-5, -2.9770591613054876e-5, -1.814184903731055e-5, -0.00010781465143588426]\n",
       " [0.00017573639817313055, 0.00014704607247736616, 0.00018204335676410898, 0.00013176263744455946, 0.00020667617545359684, 0.00015650069077528225, 0.00010094020629368064, 0.00010907019979704177, 0.0002097016704996524, 0.00012045584318842182  …  -7.178067333226495e-5, -4.891270331910914e-5, -2.5245141871717722e-5, -0.00010413039230876713, -8.367453727497459e-5, -0.00012176832914375, -4.838774248407115e-5, -4.298506690044251e-5, -2.6021251609303007e-5, -0.00015542561219007565]\n",
       " ⋮\n",
       " [-0.7748326324090316, -0.6172718106866028, -0.7889793768765064, -0.5520593350931663, -0.9525939997349651, -0.6741598021738306, -0.49130449550855787, -0.6373275783244199, -0.9635011000287742, -0.4706128960130817  …  0.250645261113867, 0.11880744061950897, 0.004203641087885706, 0.4578139937378518, 0.2805127972756811, 0.49925840540154465, 0.06983281119241352, 0.10737946228595897, 0.06210701621016485, 0.7029279275395789]\n",
       " [-0.7067518936879323, -0.5619609552782056, -0.7183514940256227, -0.5042032735291918, -0.8695791329266432, -0.6145674949545732, -0.4566745733186794, -0.5980359240099684, -0.8773639829790613, -0.42773272336399193  …  0.22495716927196294, 0.10532585088603695, 0.0019910607136881925, 0.41730558131020623, 0.25074205752454143, 0.4505778071306733, 0.05598624743594599, 0.09506150254987933, 0.058147759839123146, 0.6392774920905697]\n",
       " [-0.6931008718811611, -0.5508722478893169, -0.704193703944018, -0.494612582355058, -0.8529331020190227, -0.6026249189839045, -0.4497347403702974, -0.5901613388536646, -0.8600944142685167, -0.4191397796348837  …  0.2198068625421173, 0.1026243138984562, 0.0015475581946832939, 0.4091824278453649, 0.24477594660101287, 0.44081905137831345, 0.05321152865939317, 0.09259168158970707, 0.05735412504243156, 0.6265134771244976]\n",
       " [-0.6178622502089365, -0.48974700779833813, -0.6261383146693491, -0.44171627700707466, -0.7611877488739497, -0.5367563436733231, -0.4114362802611232, -0.5466961214527413, -0.7648956560692628, -0.37174221171265265  …  0.19141029980590987, 0.08771664143801833, -0.0009021273286396879, 0.3643995095070062, 0.2118635860715796, 0.3870089075444515, 0.03790867048612285, 0.0789751472330495, 0.052971135390153704, 0.5561560382819705]\n",
       " [-0.6027786605820429, -0.4774947541124759, -0.6104942850949031, -0.43111729284852457, -0.7427943742557951, -0.5235582347857723, -0.40376253767952414, -0.5379864920607297, -0.7458126618905888, -0.36224567015822456  …  0.18571801568705923, 0.0847298806070897, -0.0013930231126695202, 0.35542084491821113, 0.20526910862225445, 0.3762237778451107, 0.03484274323389933, 0.07624548323236094, 0.05209271005471047, 0.542049671451919]\n",
       " [-0.5171217476948564, -0.40790703486080543, -0.5216296522121342, -0.37088751747956794, -0.6383422030155113, -0.4485582176439622, -0.3601282951852499, -0.4884517239270049, -0.6374270452531943, -0.3082760359695934  …  0.1533830665942072, 0.06774993885164692, -0.004185938816316494, 0.30442108821740455, 0.16778944918661579, 0.3149531440894005, 0.017423435166499548, 0.060741042906315046, 0.04709459753650348, 0.46193526431598386]\n",
       " [-0.49995304869479373, -0.3939613087986242, -0.5038226949922451, -0.3588215342608992, -0.6174056384922856, -0.43353348308274503, -0.35138718949211883, -0.478527763890877, -0.6157050757263444, -0.2974650125872891  …  0.1469027027769729, 0.06434876390844409, -0.004745417598874057, 0.2941981625442409, 0.16028153180570798, 0.3026752535743154, 0.013934344083169433, 0.057633621790262185, 0.046093081528414265, 0.44587612452460323]\n",
       " [-0.4103555366631172, -0.321176222398207, -0.41087501945685984, -0.2958234520169507, -0.5081449667831732, -0.3550875171517225, -0.30572628201101565, -0.42667569445545095, -0.5023326788500162, -0.24101880391821878  …  0.11307783707320239, 0.046587891169532145, -0.007668037269191119, 0.24083880465734536, 0.12108113806743181, 0.2385841458594939, -0.004276020670224609, 0.04141576482592753, 0.04085816520174105, 0.36206404123409325]\n",
       " [-0.39240586014896345, -0.306596465651338, -0.3922580118786779, -0.28320776926089086, -0.486255508009637, -0.33937853272880825, -0.29658263227757314, -0.41629136292871477, -0.47962198788627436, -0.22971603924780526  …  0.10630216497205848, 0.043031701684933456, -0.008253179457867169, 0.2301483616981748, 0.1132316734799378, 0.22574687512826808, -0.00792202685295234, 0.038167007507113576, 0.03980961472559929, 0.34527238879354466]\n",
       " [-0.28766215689425545, -0.22151106416890787, -0.2836018315015778, -0.2095588494957611, -0.35852126611318114, -0.24767219782564154, -0.24317579460116046, -0.3556211552225946, -0.3470843290208392, -0.1637324034406302  …  0.06676073674899885, 0.022271450366461824, -0.011669233047877084, 0.16775749695426442, 0.06741148546270326, 0.15082361343781836, -0.029194645170236653, 0.01921030456329295, 0.033681957329621356, 0.24728382153285533]\n",
       " [-0.2666883434291664, -0.20447528222484415, -0.2618480490308284, -0.19481614564245375, -0.3329433313433687, -0.22931512813592445, -0.2324849627070083, -0.3434751437141552, -0.32054692329998447, -0.15052513090839265  …  0.05884384778888947, 0.018116416036199276, -0.012352736986697142, 0.15526389948374103, 0.058240333493064934, 0.13582362378102358, -0.03345176451010733, 0.015414876881409863, 0.03245505688976421, 0.2276619661444755]\n",
       " [-0.14328878566330355, -0.10424283570181492, -0.13385126476483983, -0.10806062588234457, -0.1824540703462555, -0.12129293229909166, -0.16954699528191447, -0.2719457369324387, -0.16440961757956474, -0.07281271473474529  …  0.01227058397027471, -0.006324510131779294, -0.016371041911296524, 0.08175420507038503, 0.004287933146941703, 0.047573215240558464, -0.05847986391189778, -0.006909291885377623, 0.025228753321153992, 0.112219119847927]"
      ]
     },
     "execution_count": 29,
     "metadata": {},
     "output_type": "execute_result"
    }
   ],
   "source": [
    "\n",
    "u0 = u_true(0)\n",
    "display(u0)\n",
    "t_interval = (0.0,2)\n",
    "function stokes(du, u, p, t)\n",
    "    A,B,g,f = p\n",
    "    du .= A * u .+ B * g(t) .+ f(t)\n",
    "    nothing\n",
    "end\n",
    "func = ODEFunction(stokes)\n",
    "prob = ODEProblem(func, u0, t_interval, [A,B,g,f])\n",
    "sol = solve(prob, ImplicitEuler())\n"
   ]
  },
  {
   "cell_type": "code",
   "execution_count": 30,
   "metadata": {},
   "outputs": [
    {
     "name": "stdout",
     "output_type": "stream",
     "text": [
      "0.2248738646949656\n",
      "0.36878563246789925\n",
      "2.675655490562553\n",
      "2.7410563849877967\n"
     ]
    },
    {
     "data": {
      "text/plain": [
       "0.36019774662600396"
      ]
     },
     "execution_count": 30,
     "metadata": {},
     "output_type": "execute_result"
    }
   ],
   "source": [
    "tt = 0.5\n",
    "println(maximum(sol(tt)[1:2*N_i] .- u_true(tt)))\n",
    "#display(vcat(sol.(0.0:0.01:2.0)...))\n",
    "#display(vcat(u_true.(0.0:0.01:2.0)...))\n",
    "println(maximum(vcat(sol.(0.0:0.01:2.0)...) .- vcat(u_true.(0.0:0.01:2.0)...)))\n",
    "println(maximum(u_true(tt)))\n",
    "println(maximum(sol(tt)))\n",
    "max_error(sol,u_true,N_i*2)"
   ]
  },
  {
   "cell_type": "code",
   "execution_count": 25,
   "metadata": {},
   "outputs": [
    {
     "data": {
      "text/plain": [
       "86-element Vector{Float64}:\n",
       " -2.0844940431848706\n",
       " -2.374246065005658\n",
       " -1.7347536625698776\n",
       " -2.8366650847760067\n",
       " -2.6308131548371256\n",
       " -3.0113117831635097\n",
       " -3.113153315176634\n",
       " -2.9820281087317864\n",
       " -3.093002348874496\n",
       " -3.1410547703989344\n",
       " -2.7963517985757664\n",
       " -2.584451212271659\n",
       " -2.3310081642440044\n",
       "  ⋮\n",
       " -2.5423191467877895\n",
       " -1.5627958861675946\n",
       " -0.7569309204812624\n",
       " -0.30764725259103015\n",
       " -1.1785612444391695\n",
       "  1.065517870170178\n",
       "  0.6424384338222944\n",
       "  0.1722505112538692\n",
       "  1.442459752488261\n",
       "  2.1392269484572286\n",
       "  2.4740344652162585\n",
       "  1.8091640553796398"
      ]
     },
     "metadata": {},
     "output_type": "display_data"
    }
   ],
   "source": [
    "t_interest = 1.5\n",
    "xsi = Internal_points[1,:]\n",
    "ysi = Internal_points[2,:]\n",
    "\n",
    "u = sol(t_interest)[1:N_i]\n",
    "v = sol(t_interest)[N_i+1:end]\n",
    "\n",
    "#usi = f(t_interest)[1:2:2*N_i]\n",
    "#vsi = f(t_interest)[2:2:2*N_i]\n",
    "\n",
    "up = ∇p_true(t_interest)[1:N_i]\n",
    "vp = ∇p_true(t_interest)[N_i+1:end]\n",
    "\n",
    "up_sol = (∇P * inv(K) * vcat(sol(t_interest),g(t_interest)))[1:N_i]\n",
    "vp_sol = (∇P * inv(K) * vcat(sol(t_interest),g(t_interest)))[N_i+1:2*N_i]\n",
    "\n",
    "#xsb = Boundary_points[1,:]\n",
    "#ysb = Boundary_points[2,:]\n",
    "#usb = g(t_interest)[1:2:2*N_b]\n",
    "#vsb = g(t_interest)[2:2:2*N_b]\n",
    "\n",
    "#strengthi = (sqrt.( usi.^ 2 .+  vsi.^ 2) )\n",
    "#strengthb = (sqrt.( usb.^ 2 .+  vsb.^ 2) )\n",
    "strengthp = (sqrt.( (up.+0.0).^ 2 .+  (vp .+0.0).^ 2) )\n",
    "strengthp_sol = (sqrt.( (up_sol.+0.0).^ 2 .+  (vp_sol .+0.0).^ 2) )\n",
    "strengthsol = (sqrt.( (u.+0.0).^ 2 .+  (v .+0.0).^ 2) )\n",
    "\n",
    "fig = Figure(resolution = (3*400, 2*400))\n",
    "subfig1 = fig[1, 1] = GridLayout()\n",
    "subfig2 = fig[1, 2] = GridLayout()\n",
    "subfig3 = fig[1, 3] = GridLayout()\n",
    "subfig4 = fig[2, 1] = GridLayout()\n",
    "subfig5 = fig[2, 2] = GridLayout()\n",
    "subfig6 = fig[2, 3] = GridLayout()\n",
    "ax1 = Axis(subfig1[1, 1], backgroundcolor = \"black\",title = \"ODE solution\")\n",
    "ax2 = Axis(subfig2[1, 1], backgroundcolor = \"black\",title = \"boundary velocity\")\n",
    "ax3 = Axis(subfig3[1, 1], backgroundcolor = \"black\",title = \"pressure gradient\")\n",
    "ax4 = Axis(subfig4[1, 1], backgroundcolor = \"black\",title = \"velocity\")\n",
    "ax5 = Axis(subfig5[1, 1], backgroundcolor = \"black\",title = \"velocity\")\n",
    "ax6 = Axis(subfig6[1, 1], backgroundcolor = \"black\",title = \"velocity\")\n",
    "#arrows!(ax1,xsi, ysi, usi, vsi, arrowsize = 10, lengthscale = 0.2, arrowcolor = strengthi, linecolor = strengthi) #,\n",
    "#arrows!(ax3,xsi, ysi, up_sol, vp_sol, arrowsize = 10, lengthscale = 0.2, arrowcolor = strengthp_sol, linecolor = strengthp_sol) #,\n",
    "arrows!(ax6,xsi, ysi, up, vp, arrowsize = 10, lengthscale = 0.2, arrowcolor = strengthp, linecolor = strengthp) #,\n",
    "arrows!(ax1,xsi, ysi,u , v, arrowsize = 10, lengthscale = 0.2, arrowcolor = strengthsol, linecolor = strengthsol)\n",
    "fig\n",
    "#save(\"testingg.png\",fig)\n",
    "\n",
    "display(g(t_interest))"
   ]
  },
  {
   "cell_type": "code",
   "execution_count": 16,
   "metadata": {},
   "outputs": [
    {
     "data": {
      "text/plain": [
       "\"ODE_method.gif\""
      ]
     },
     "execution_count": 16,
     "metadata": {},
     "output_type": "execute_result"
    }
   ],
   "source": [
    "time = Observable(0.0)\n",
    "xs = Internal_points[1,:]\n",
    "ys = Internal_points[2,:]\n",
    "us = @lift sol($time)[1:N_i] #- u_true($time)[1:N_i]\n",
    "vs = @lift sol($time)[N_i+1:end]  #- u_true($time)[N_i+1:end] \n",
    "title = @lift string(round($time, digits=2))\n",
    "strength2 = @lift sqrt.(sol($time+0.01)[1:N_i] .^ 2 .+ sol($time+0.01)[N_i+1:end] .^ 2) \n",
    "\n",
    "fig = Figure(resolution = (800, 800))\n",
    "Axis(fig[1, 1], backgroundcolor = \"black\",title = title)\n",
    "arrows!(xs, ys, us, vs, arrowsize = 10, lengthscale = 0.1, arrowcolor = strength2, linecolor = strength2) #, \n",
    "framerate = 30\n",
    "timestamps = range(0.0, 2, step=1/framerate)\n",
    "record(fig, \"ODE_method.gif\", timestamps; framerate = framerate) do ti\n",
    "    time[] = ti\n",
    "end\n"
   ]
  },
  {
   "cell_type": "code",
   "execution_count": 9,
   "metadata": {},
   "outputs": [
    {
     "ename": "LoadError",
     "evalue": "syntax: invalid escape sequence",
     "output_type": "error",
     "traceback": [
      "syntax: invalid escape sequence",
      "",
      "Stacktrace:",
      " [1] top-level scope",
      "   @ In[9]:30"
     ]
    }
   ],
   "source": [
    "\"\"\"\n",
    "# test the code on interpolation\n",
    "M = construct_kernel_array(Φ_div,[λ₁,λ₂,λ₃],[λ₁,λ₂,λ₃])\n",
    "O = compile_kernel_array(M)\n",
    "int_points = hcat(generate_2D_equally_spaced_points(10)...)\n",
    "tst_points, _ =  generate_2D_equally_spaced_points(20)\n",
    "u₁_int = generate_vector_function(true_u₁,int_points)(1.3)\n",
    "u₂_int = generate_vector_function(true_u₂,int_points)(1.3)\n",
    "p_int = generate_vector_function(true_p,int_points)(1.3)\n",
    "\n",
    "u₁_tst = generate_vector_function(true_u₁,tst_points)(1.3)\n",
    "u₂_tst = generate_vector_function(true_u₂,tst_points)(1.3)\n",
    "p_tst = generate_vector_function(true_p,tst_points)(1.3)\n",
    "\n",
    "\n",
    "A_int = crete_block_point_tensors([int_points,int_points,int_points],[int_points,int_points,int_points])\n",
    "A_tst = crete_block_point_tensors([tst_points,tst_points,tst_points],[int_points,int_points,int_points])\n",
    "P_int = generate_block_matrices(O,A_int,2)\n",
    "P_tst = generate_block_matrices(O,A_tst,2)\n",
    "FF_int = flatten(P_int)\n",
    "FF_tst = flatten(P_tst)\n",
    "\n",
    "println(\"cond_number:\", cond(FF_int))\n",
    "\n",
    "reconstructed = FF_tst* (FF_int\\ vcat(u₁_int,u₂_int,p_int))\n",
    "error = reconstructed - vcat(u₁_tst,u₂_tst,p_tst)\n",
    "fig, ax, hm = heatmap(tst_points[1,:],tst_points[2,:],error[324*2+1:324*3],aspect_ratio=:equal,colorbar=true)\n",
    "Colorbar(fig[:, end+1], hm)\n",
    "fig\n",
    "\"\"\""
   ]
  }
 ],
 "metadata": {
  "kernelspec": {
   "display_name": "Julia 1.7.1",
   "language": "julia",
   "name": "julia-1.7"
  },
  "language_info": {
   "file_extension": ".jl",
   "mimetype": "application/julia",
   "name": "julia",
   "version": "1.7.1"
  },
  "orig_nbformat": 4
 },
 "nbformat": 4,
 "nbformat_minor": 2
}
